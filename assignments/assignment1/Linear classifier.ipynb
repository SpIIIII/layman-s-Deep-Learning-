{
 "cells": [
  {
   "cell_type": "markdown",
   "metadata": {},
   "source": [
    "# Задание 1.2 - Линейный классификатор (Linear classifier)\n",
    "\n",
    "В этом задании мы реализуем другую модель машинного обучения - линейный классификатор. Линейный классификатор подбирает для каждого класса веса, на которые нужно умножить значение каждого признака и потом сложить вместе.\n",
    "Тот класс, у которого эта сумма больше, и является предсказанием модели.\n",
    "\n",
    "В этом задании вы:\n",
    "- потренируетесь считать градиенты различных многомерных функций\n",
    "- реализуете подсчет градиентов через линейную модель и функцию потерь softmax\n",
    "- реализуете процесс тренировки линейного классификатора\n",
    "- подберете параметры тренировки на практике\n",
    "\n",
    "На всякий случай, еще раз ссылка на туториал по numpy:  \n",
    "http://cs231n.github.io/python-numpy-tutorial/"
   ]
  },
  {
   "cell_type": "code",
   "execution_count": 27,
   "metadata": {},
   "outputs": [],
   "source": [
    "import numpy as np\n",
    "import pandas as pd\n",
    "import matplotlib.pyplot as plt\n",
    "from mpl_toolkits.mplot3d.art3d import Line3DCollection\n",
    "\n",
    "def fmt_items(lines,max_lines=0):\n",
    "    max_width=max([len(line)for line in lines])\n",
    "    empty =' '*max_width\n",
    "    lines = [line.ljust(max_width)for line in lines]\n",
    "    lines += [empty]*(max_lines - len(lines))\n",
    "    return lines\n",
    "    \n",
    "def pp (*list):\n",
    "    lines = [ str(item).split('\\n') for item in list]\n",
    "    max_lines=max([len(item)for  item in lines])\n",
    "    lines = [fmt_items(item,max_lines=max_lines)for item in lines]\n",
    "    lines_t= np.array(lines).T\n",
    "    print('\\n'.join([' '.join(line) for  line in lines_t]))\n"
   ]
  },
  {
   "cell_type": "code",
   "execution_count": 4,
   "metadata": {},
   "outputs": [],
   "source": [
    "%matplotlib inline\n",
    "\n",
    "%load_ext autoreload\n",
    "%autoreload 2"
   ]
  },
  {
   "cell_type": "code",
   "execution_count": 5,
   "metadata": {},
   "outputs": [],
   "source": [
    "from dataset import load_svhn, random_split_train_val\n",
    "from gradient_check import check_gradient\n",
    "from metrics import multiclass_accuracy \n",
    "import linear_classifer"
   ]
  },
  {
   "cell_type": "markdown",
   "metadata": {},
   "source": [
    "# Как всегда, первым делом загружаем данные\n",
    "\n",
    "Мы будем использовать все тот же SVHN."
   ]
  },
  {
   "cell_type": "code",
   "execution_count": 6,
   "metadata": {},
   "outputs": [],
   "source": [
    "def prepare_for_linear_classifier(train_X, test_X):\n",
    "    train_flat = train_X.reshape(train_X.shape[0], -1).astype(np.float) / 255.0\n",
    "    test_flat = test_X.reshape(test_X.shape[0], -1).astype(np.float) / 255.0\n",
    "    \n",
    "    # Subtract mean\n",
    "    mean_image = np.mean(train_flat, axis = 0)\n",
    "    train_flat -= mean_image\n",
    "    test_flat -= mean_image\n",
    "    \n",
    "    # Add another channel with ones as a bias term\n",
    "    train_flat_with_ones = np.hstack([train_flat, np.ones((train_X.shape[0], 1))])\n",
    "    test_flat_with_ones = np.hstack([test_flat, np.ones((test_X.shape[0], 1))])    \n",
    "    return train_flat_with_ones, test_flat_with_ones\n",
    "    \n",
    "train_X, train_y, test_X, test_y = load_svhn(\"data\", max_train=10000, max_test=1000)    \n",
    "train_X, test_X = prepare_for_linear_classifier(train_X, test_X)\n",
    "# Split train into train and val\n",
    "train_X, train_y, val_X, val_y = random_split_train_val(train_X, train_y, num_val = 1000)"
   ]
  },
  {
   "cell_type": "markdown",
   "metadata": {},
   "source": [
    "# Играемся с градиентами!\n",
    "\n",
    "В этом курсе мы будем писать много функций, которые вычисляют градиенты аналитическим методом.\n",
    "\n",
    "Все функции, в которых мы будем вычислять градиенты будут написаны по одной и той же схеме.  \n",
    "Они будут получать на вход точку, где нужно вычислить значение и градиент функции, а на выходе будут выдавать кортеж (tuple) из двух значений - собственно значения функции в этой точке (всегда одно число) и аналитического значения градиента в той же точке (той же размерности, что и вход).\n",
    "```\n",
    "def f(x):\n",
    "    \"\"\"\n",
    "    Computes function and analytic gradient at x\n",
    "    \n",
    "    x: np array of float, input to the function\n",
    "    \n",
    "    Returns:\n",
    "    value: float, value of the function \n",
    "    grad: np array of float, same shape as x\n",
    "    \"\"\"\n",
    "    ...\n",
    "    \n",
    "    return value, grad\n",
    "```\n",
    "\n",
    "Необходимым инструментом во время реализации кода, вычисляющего градиенты, является функция его проверки. Эта функция вычисляет градиент численным методом и сверяет результат с градиентом, вычисленным аналитическим методом.\n",
    "\n",
    "Мы начнем с того, чтобы реализовать вычисление численного градиента (numeric gradient) в функции `check_gradient` в `gradient_check.py`. Эта функция будет принимать на вход функции формата, заданного выше, использовать значение `value` для вычисления численного градиента и сравнит его с аналитическим - они должны сходиться.\n",
    "\n",
    "Напишите часть функции, которая вычисляет градиент с помощью численной производной для каждой координаты. Для вычисления производной используйте так называемую two-point formula (https://en.wikipedia.org/wiki/Numerical_differentiation):\n",
    "\n",
    "![image](https://wikimedia.org/api/rest_v1/media/math/render/svg/22fc2c0a66c63560a349604f8b6b39221566236d)\n",
    "\n",
    "Все функции приведенные в следующей клетке должны проходить gradient check."
   ]
  },
  {
   "cell_type": "code",
   "execution_count": 7,
   "metadata": {
    "scrolled": true
   },
   "outputs": [
    {
     "name": "stdout",
     "output_type": "stream",
     "text": [
      "==GRAD_CHECK== at (0,)  num = 6.000000000039306 anal = 6.0\n",
      "Gradient check passed!\n",
      "==GRAD_CHECK== at (0,)  num = 1.0000000000065512 anal = 1.0\n",
      "==GRAD_CHECK== at (1,)  num = 1.0000000000065512 anal = 1.0\n",
      "Gradient check passed!\n",
      "==GRAD_CHECK== at (0, 0)  num = 1.0000000000065512 anal = 1.0\n",
      "==GRAD_CHECK== at (0, 1)  num = 1.0000000000065512 anal = 1.0\n",
      "==GRAD_CHECK== at (1, 0)  num = 1.0000000000065512 anal = 1.0\n",
      "==GRAD_CHECK== at (1, 1)  num = 1.0000000000065512 anal = 1.0\n",
      "Gradient check passed!\n"
     ]
    },
    {
     "data": {
      "text/plain": [
       "True"
      ]
     },
     "execution_count": 7,
     "metadata": {},
     "output_type": "execute_result"
    }
   ],
   "source": [
    "# TODO: Implement check_gradient function in gradient_check.py\n",
    "# All the functions below should pass the gradient check\n",
    "\n",
    "def square(x):\n",
    "    return float(x*x), 2*x\n",
    "\n",
    "check_gradient(square, np.array([3.0]))\n",
    "\n",
    "def array_sum(x):\n",
    "    assert x.shape == (2,), x.shape\n",
    "    return np.sum(x), np.ones_like(x)\n",
    "\n",
    "check_gradient(array_sum, np.array([3.0, 2.0]))\n",
    "\n",
    "def array_2d_sum(x):\n",
    "    assert x.shape == (2,2)\n",
    "    return np.sum(x), np.ones_like(x)\n",
    "\n",
    "check_gradient(array_2d_sum, np.array([[3.0, 2.0], [1.0, 0.0]]))"
   ]
  },
  {
   "cell_type": "code",
   "execution_count": 6,
   "metadata": {},
   "outputs": [
    {
     "data": {
      "text/plain": [
       "1.0"
      ]
     },
     "execution_count": 6,
     "metadata": {},
     "output_type": "execute_result"
    }
   ],
   "source": [
    "(array_sum(np.array([5.0, 2.0]))[0]-array_sum(np.array([1.0, 2.0]))[0])/4"
   ]
  },
  {
   "cell_type": "markdown",
   "metadata": {},
   "source": [
    "## Начинаем писать свои функции, считающие аналитический градиент\n",
    "\n",
    "Теперь реализуем функцию softmax, которая получает на вход оценки для каждого класса и преобразует их в вероятности от 0 до 1:\n",
    "![image](https://wikimedia.org/api/rest_v1/media/math/render/svg/e348290cf48ddbb6e9a6ef4e39363568b67c09d3)\n",
    "\n",
    "**Важно:** Практический аспект вычисления этой функции заключается в том, что в ней учавствует вычисление экспоненты от потенциально очень больших чисел - это может привести к очень большим значениям в числителе и знаменателе за пределами диапазона float.\n",
    "\n",
    "К счастью, у этой проблемы есть простое решение -- перед вычислением softmax вычесть из всех оценок максимальное значение среди всех оценок:\n",
    "```\n",
    "predictions -= np.max(predictions)\n",
    "```\n",
    "(подробнее здесь - http://cs231n.github.io/linear-classify/#softmax, секция `Practical issues: Numeric stability`)"
   ]
  },
  {
   "cell_type": "code",
   "execution_count": null,
   "metadata": {},
   "outputs": [],
   "source": []
  },
  {
   "cell_type": "code",
   "execution_count": 7,
   "metadata": {},
   "outputs": [
    {
     "name": "stdout",
     "output_type": "stream",
     "text": [
      "soft max = [2.06106005e-09 4.53978686e-05 9.99954600e-01]\n",
      "[2.06106005e-09 4.53978686e-05 9.99954600e-01]\n",
      "soft max = [1. 0. 0.]\n",
      "[1. 0. 0.]\n"
     ]
    }
   ],
   "source": [
    "import linear_classifer \n",
    "# TODO Implement softmax and cross-entropy for single sample\n",
    "probs = linear_classifer.softmax(np.array([-10, 0, 10]))\n",
    "print(probs)\n",
    "# Make sure it works for big numbers too!\n",
    "probs = linear_classifer.softmax(np.array([1000, 0, 0]))\n",
    "print(probs)\n",
    "# assert np.isclose(probs[0], 1.0)"
   ]
  },
  {
   "cell_type": "code",
   "execution_count": null,
   "metadata": {},
   "outputs": [],
   "source": []
  },
  {
   "cell_type": "markdown",
   "metadata": {},
   "source": [
    "Кроме этого, мы реализуем cross-entropy loss, которую мы будем использовать как функцию ошибки (error function).\n",
    "В общем виде cross-entropy определена следующим образом:\n",
    "![image](https://wikimedia.org/api/rest_v1/media/math/render/svg/0cb6da032ab424eefdca0884cd4113fe578f4293)\n",
    "\n",
    "где x - все классы, p(x) - истинная вероятность принадлежности сэмпла классу x, а q(x) - вероятность принадлежности классу x, предсказанная моделью.  \n",
    "В нашем случае сэмпл принадлежит только одному классу, индекс которого передается функции. Для него p(x) равна 1, а для остальных классов - 0. \n",
    "\n",
    "Это позволяет реализовать функцию проще!"
   ]
  },
  {
   "cell_type": "code",
   "execution_count": 10,
   "metadata": {},
   "outputs": [
    {
     "name": "stdout",
     "output_type": "stream",
     "text": [
      "soft max = [4.50940412e-05 6.69254912e-03 9.93262357e-01]\n"
     ]
    },
    {
     "ename": "IndexError",
     "evalue": "too many indices for array",
     "output_type": "error",
     "traceback": [
      "\u001b[1;31m---------------------------------------------------------------------------\u001b[0m",
      "\u001b[1;31mIndexError\u001b[0m                                Traceback (most recent call last)",
      "\u001b[1;32m<ipython-input-10-7e7aa37f4ed7>\u001b[0m in \u001b[0;36m<module>\u001b[1;34m\u001b[0m\n\u001b[0;32m      1\u001b[0m \u001b[0mprobs\u001b[0m \u001b[1;33m=\u001b[0m \u001b[0mlinear_classifer\u001b[0m\u001b[1;33m.\u001b[0m\u001b[0msoftmax\u001b[0m\u001b[1;33m(\u001b[0m\u001b[0mnp\u001b[0m\u001b[1;33m.\u001b[0m\u001b[0marray\u001b[0m\u001b[1;33m(\u001b[0m\u001b[1;33m[\u001b[0m\u001b[1;33m-\u001b[0m\u001b[1;36m5\u001b[0m\u001b[1;33m,\u001b[0m \u001b[1;36m0\u001b[0m\u001b[1;33m,\u001b[0m \u001b[1;36m5\u001b[0m\u001b[1;33m]\u001b[0m\u001b[1;33m)\u001b[0m\u001b[1;33m)\u001b[0m\u001b[1;33m\u001b[0m\u001b[1;33m\u001b[0m\u001b[0m\n\u001b[0;32m      2\u001b[0m \u001b[1;33m\u001b[0m\u001b[0m\n\u001b[1;32m----> 3\u001b[1;33m \u001b[0mlinear_classifer\u001b[0m\u001b[1;33m.\u001b[0m\u001b[0mcross_entropy_loss\u001b[0m\u001b[1;33m(\u001b[0m\u001b[0mprobs\u001b[0m\u001b[1;33m,\u001b[0m \u001b[0mnp\u001b[0m\u001b[1;33m.\u001b[0m\u001b[0marray\u001b[0m\u001b[1;33m(\u001b[0m\u001b[1;36m2\u001b[0m\u001b[1;33m)\u001b[0m\u001b[1;33m)\u001b[0m\u001b[1;33m\u001b[0m\u001b[1;33m\u001b[0m\u001b[0m\n\u001b[0m",
      "\u001b[1;32mD:\\Python\\layman-s-Deep-Learning-\\assignments\\assignment1\\linear_classifer.py\u001b[0m in \u001b[0;36mcross_entropy_loss\u001b[1;34m(probs, target_index)\u001b[0m\n\u001b[0;32m     36\u001b[0m     '''\n\u001b[0;32m     37\u001b[0m \u001b[1;33m\u001b[0m\u001b[0m\n\u001b[1;32m---> 38\u001b[1;33m     \u001b[0mlog\u001b[0m \u001b[1;33m=\u001b[0m   \u001b[0mnp\u001b[0m\u001b[1;33m.\u001b[0m\u001b[0msum\u001b[0m\u001b[1;33m(\u001b[0m\u001b[1;33m-\u001b[0m \u001b[0mnp\u001b[0m\u001b[1;33m.\u001b[0m\u001b[0mlog\u001b[0m\u001b[1;33m(\u001b[0m\u001b[0mprobs\u001b[0m\u001b[1;33m[\u001b[0m\u001b[0mnp\u001b[0m\u001b[1;33m.\u001b[0m\u001b[0marange\u001b[0m\u001b[1;33m(\u001b[0m\u001b[0mprobs\u001b[0m\u001b[1;33m.\u001b[0m\u001b[0mshape\u001b[0m\u001b[1;33m[\u001b[0m\u001b[1;36m0\u001b[0m\u001b[1;33m]\u001b[0m\u001b[1;33m)\u001b[0m\u001b[1;33m,\u001b[0m\u001b[0mtarget_index\u001b[0m\u001b[1;33m.\u001b[0m\u001b[0mflatten\u001b[0m\u001b[1;33m(\u001b[0m\u001b[1;33m)\u001b[0m\u001b[1;33m]\u001b[0m\u001b[1;33m)\u001b[0m\u001b[1;33m)\u001b[0m\u001b[1;33m\u001b[0m\u001b[1;33m\u001b[0m\u001b[0m\n\u001b[0m\u001b[0;32m     39\u001b[0m     \u001b[0mpp\u001b[0m \u001b[1;33m(\u001b[0m\u001b[1;34m'log = '\u001b[0m\u001b[1;33m,\u001b[0m\u001b[0mlog\u001b[0m\u001b[1;33m)\u001b[0m\u001b[1;33m\u001b[0m\u001b[1;33m\u001b[0m\u001b[0m\n\u001b[0;32m     40\u001b[0m     \u001b[1;32mreturn\u001b[0m \u001b[0mlog\u001b[0m\u001b[1;33m\u001b[0m\u001b[1;33m\u001b[0m\u001b[0m\n",
      "\u001b[1;31mIndexError\u001b[0m: too many indices for array"
     ]
    }
   ],
   "source": [
    "probs = linear_classifer.softmax(np.array([-5, 0, 5]))\n",
    "    \n",
    "linear_classifer.cross_entropy_loss(probs, np.array(2))\n"
   ]
  },
  {
   "cell_type": "markdown",
   "metadata": {},
   "source": [
    "После того как мы реализовали сами функции, мы можем реализовать градиент.\n",
    "\n",
    "Оказывается, что вычисление градиента становится гораздо проще, если объединить эти функции в одну, которая сначала вычисляет вероятности через softmax, а потом использует их для вычисления функции ошибки через cross-entropy loss.\n",
    "\n",
    "Эта функция `softmax_with_cross_entropy` будет возвращает и значение ошибки, и градиент по входным параметрам. Мы проверим корректность реализации с помощью `check_gradient`."
   ]
  },
  {
   "cell_type": "code",
   "execution_count": null,
   "metadata": {},
   "outputs": [],
   "source": [
    "probs = linear_classifer.softmax(np.array([1, 0, 0]))\n",
    "linear_classifer.cross_entropy_loss(probs, 0)"
   ]
  },
  {
   "cell_type": "code",
   "execution_count": 9,
   "metadata": {},
   "outputs": [
    {
     "name": "stdout",
     "output_type": "stream",
     "text": [
      "enter of the function =  [1. 0. 0.] 0\n",
      "soft max = [0.57611688 0.21194156 0.21194156]\n"
     ]
    },
    {
     "ename": "AttributeError",
     "evalue": "'int' object has no attribute 'flatten'",
     "output_type": "error",
     "traceback": [
      "\u001b[1;31m---------------------------------------------------------------------------\u001b[0m",
      "\u001b[1;31mAttributeError\u001b[0m                            Traceback (most recent call last)",
      "\u001b[1;32m<ipython-input-9-6b65fea27065>\u001b[0m in \u001b[0;36m<module>\u001b[1;34m\u001b[0m\n\u001b[1;32m----> 1\u001b[1;33m \u001b[0mloss\u001b[0m\u001b[1;33m,\u001b[0m \u001b[0mgrad\u001b[0m\u001b[1;33m=\u001b[0m \u001b[0mlinear_classifer\u001b[0m\u001b[1;33m.\u001b[0m\u001b[0msoftmax_with_cross_entropy\u001b[0m\u001b[1;33m(\u001b[0m\u001b[0mnp\u001b[0m\u001b[1;33m.\u001b[0m\u001b[0marray\u001b[0m\u001b[1;33m(\u001b[0m\u001b[1;33m[\u001b[0m\u001b[1;36m1.\u001b[0m\u001b[1;33m,\u001b[0m \u001b[1;36m0.\u001b[0m\u001b[1;33m,\u001b[0m \u001b[1;36m0.\u001b[0m\u001b[1;33m]\u001b[0m\u001b[1;33m)\u001b[0m\u001b[1;33m,\u001b[0m \u001b[1;36m0\u001b[0m\u001b[1;33m)\u001b[0m\u001b[1;33m\u001b[0m\u001b[1;33m\u001b[0m\u001b[0m\n\u001b[0m\u001b[0;32m      2\u001b[0m \u001b[0mloss1\u001b[0m\u001b[1;33m,\u001b[0m \u001b[0mgrad1\u001b[0m\u001b[1;33m=\u001b[0m \u001b[0mlinear_classifer\u001b[0m\u001b[1;33m.\u001b[0m\u001b[0msoftmax_with_cross_entropy\u001b[0m\u001b[1;33m(\u001b[0m\u001b[0mnp\u001b[0m\u001b[1;33m.\u001b[0m\u001b[0marray\u001b[0m\u001b[1;33m(\u001b[0m\u001b[1;33m[\u001b[0m\u001b[1;36m3\u001b[0m\u001b[1;33m,\u001b[0m \u001b[1;36m0\u001b[0m\u001b[1;33m,\u001b[0m \u001b[1;36m0\u001b[0m\u001b[1;33m]\u001b[0m\u001b[1;33m)\u001b[0m\u001b[1;33m,\u001b[0m \u001b[1;36m0\u001b[0m\u001b[1;33m)\u001b[0m\u001b[1;33m\u001b[0m\u001b[1;33m\u001b[0m\u001b[0m\n\u001b[0;32m      3\u001b[0m \u001b[0mloss2\u001b[0m\u001b[1;33m,\u001b[0m \u001b[0mgrad2\u001b[0m \u001b[1;33m=\u001b[0m \u001b[0mlinear_classifer\u001b[0m\u001b[1;33m.\u001b[0m\u001b[0msoftmax_with_cross_entropy\u001b[0m\u001b[1;33m(\u001b[0m\u001b[0mnp\u001b[0m\u001b[1;33m.\u001b[0m\u001b[0marray\u001b[0m\u001b[1;33m(\u001b[0m\u001b[1;33m[\u001b[0m\u001b[1;33m-\u001b[0m\u001b[1;36m1\u001b[0m\u001b[1;33m,\u001b[0m \u001b[1;36m0\u001b[0m\u001b[1;33m,\u001b[0m \u001b[1;36m0\u001b[0m\u001b[1;33m]\u001b[0m\u001b[1;33m)\u001b[0m\u001b[1;33m,\u001b[0m \u001b[1;36m0\u001b[0m\u001b[1;33m)\u001b[0m\u001b[1;33m\u001b[0m\u001b[1;33m\u001b[0m\u001b[0m\n\u001b[0;32m      4\u001b[0m \u001b[0mprint\u001b[0m\u001b[1;33m(\u001b[0m\u001b[1;33m(\u001b[0m\u001b[0mloss1\u001b[0m\u001b[1;33m-\u001b[0m\u001b[0mloss2\u001b[0m\u001b[1;33m)\u001b[0m\u001b[1;33m/\u001b[0m\u001b[1;36m4\u001b[0m\u001b[1;33m)\u001b[0m\u001b[1;33m\u001b[0m\u001b[1;33m\u001b[0m\u001b[0m\n\u001b[0;32m      5\u001b[0m \u001b[0mprint\u001b[0m\u001b[1;33m(\u001b[0m\u001b[1;34m'loss,grad = '\u001b[0m\u001b[1;33m,\u001b[0m\u001b[0mloss\u001b[0m\u001b[1;33m,\u001b[0m \u001b[0mgrad\u001b[0m\u001b[1;33m)\u001b[0m\u001b[1;33m\u001b[0m\u001b[1;33m\u001b[0m\u001b[0m\n",
      "\u001b[1;32mD:\\Python\\layman-s-Deep-Learning-\\assignments\\assignment1\\linear_classifer.py\u001b[0m in \u001b[0;36msoftmax_with_cross_entropy\u001b[1;34m(predictions, target_index)\u001b[0m\n\u001b[0;32m     65\u001b[0m \u001b[1;33m\u001b[0m\u001b[0m\n\u001b[0;32m     66\u001b[0m     \u001b[0msoftmax_\u001b[0m \u001b[1;33m=\u001b[0m \u001b[0msoftmax\u001b[0m\u001b[1;33m(\u001b[0m\u001b[0mpredictions\u001b[0m\u001b[1;33m)\u001b[0m\u001b[1;33m\u001b[0m\u001b[1;33m\u001b[0m\u001b[0m\n\u001b[1;32m---> 67\u001b[1;33m     \u001b[0mloss\u001b[0m \u001b[1;33m=\u001b[0m \u001b[0mcross_entropy_loss\u001b[0m\u001b[1;33m(\u001b[0m\u001b[0msoftmax_\u001b[0m\u001b[1;33m,\u001b[0m\u001b[0mtarget_index\u001b[0m\u001b[1;33m)\u001b[0m\u001b[1;33m\u001b[0m\u001b[1;33m\u001b[0m\u001b[0m\n\u001b[0m\u001b[0;32m     68\u001b[0m \u001b[1;33m\u001b[0m\u001b[0m\n\u001b[0;32m     69\u001b[0m \u001b[1;33m\u001b[0m\u001b[0m\n",
      "\u001b[1;32mD:\\Python\\layman-s-Deep-Learning-\\assignments\\assignment1\\linear_classifer.py\u001b[0m in \u001b[0;36mcross_entropy_loss\u001b[1;34m(probs, target_index)\u001b[0m\n\u001b[0;32m     37\u001b[0m     '''\n\u001b[0;32m     38\u001b[0m     \u001b[1;31m# log = - np.log(probs[target_index])\u001b[0m\u001b[1;33m\u001b[0m\u001b[1;33m\u001b[0m\u001b[1;33m\u001b[0m\u001b[0m\n\u001b[1;32m---> 39\u001b[1;33m     \u001b[0mlog\u001b[0m \u001b[1;33m=\u001b[0m   \u001b[0mnp\u001b[0m\u001b[1;33m.\u001b[0m\u001b[0msum\u001b[0m\u001b[1;33m(\u001b[0m\u001b[1;33m-\u001b[0m \u001b[0mnp\u001b[0m\u001b[1;33m.\u001b[0m\u001b[0mlog\u001b[0m\u001b[1;33m(\u001b[0m\u001b[0mprobs\u001b[0m\u001b[1;33m[\u001b[0m\u001b[0mnp\u001b[0m\u001b[1;33m.\u001b[0m\u001b[0marange\u001b[0m\u001b[1;33m(\u001b[0m\u001b[0mprobs\u001b[0m\u001b[1;33m.\u001b[0m\u001b[0mshape\u001b[0m\u001b[1;33m[\u001b[0m\u001b[1;36m0\u001b[0m\u001b[1;33m]\u001b[0m\u001b[1;33m)\u001b[0m\u001b[1;33m,\u001b[0m\u001b[0mtarget_index\u001b[0m\u001b[1;33m.\u001b[0m\u001b[0mflatten\u001b[0m\u001b[1;33m(\u001b[0m\u001b[1;33m)\u001b[0m\u001b[1;33m]\u001b[0m\u001b[1;33m)\u001b[0m\u001b[1;33m)\u001b[0m\u001b[1;33m\u001b[0m\u001b[1;33m\u001b[0m\u001b[0m\n\u001b[0m\u001b[0;32m     40\u001b[0m     \u001b[0mpp\u001b[0m \u001b[1;33m(\u001b[0m\u001b[1;34m'log = '\u001b[0m\u001b[1;33m,\u001b[0m\u001b[0mlog\u001b[0m\u001b[1;33m)\u001b[0m\u001b[1;33m\u001b[0m\u001b[1;33m\u001b[0m\u001b[0m\n\u001b[0;32m     41\u001b[0m     \u001b[1;32mreturn\u001b[0m \u001b[0mlog\u001b[0m\u001b[1;33m\u001b[0m\u001b[1;33m\u001b[0m\u001b[0m\n",
      "\u001b[1;31mAttributeError\u001b[0m: 'int' object has no attribute 'flatten'"
     ]
    }
   ],
   "source": [
    "loss, grad= linear_classifer.softmax_with_cross_entropy(np.array([1., 0., 0.]), 0)\n",
    "loss1, grad1= linear_classifer.softmax_with_cross_entropy(np.array([3, 0, 0]), 0)\n",
    "loss2, grad2 = linear_classifer.softmax_with_cross_entropy(np.array([-1, 0, 0]), 0)\n",
    "print((loss1-loss2)/4)\n",
    "print('loss,grad = ',loss, grad)"
   ]
  },
  {
   "cell_type": "code",
   "execution_count": 22,
   "metadata": {},
   "outputs": [
    {
     "name": "stdout",
     "output_type": "stream",
     "text": [
      "enter of the function =  [1. 0. 0.] 1\n"
     ]
    },
    {
     "ename": "AttributeError",
     "evalue": "'int' object has no attribute 'flatten'",
     "output_type": "error",
     "traceback": [
      "\u001b[1;31m---------------------------------------------------------------------------\u001b[0m",
      "\u001b[1;31mAttributeError\u001b[0m                            Traceback (most recent call last)",
      "\u001b[1;32m<ipython-input-22-2837c8be80ff>\u001b[0m in \u001b[0;36m<module>\u001b[1;34m\u001b[0m\n\u001b[0;32m      1\u001b[0m \u001b[1;31m# TODO Implement combined function orsoftmax and cross entropy and produces gradient #-2.0491237621641485\u001b[0m\u001b[1;33m\u001b[0m\u001b[1;33m\u001b[0m\u001b[1;33m\u001b[0m\u001b[0m\n\u001b[0;32m      2\u001b[0m \u001b[1;33m\u001b[0m\u001b[0m\n\u001b[1;32m----> 3\u001b[1;33m \u001b[0mcheck_gradient\u001b[0m\u001b[1;33m(\u001b[0m\u001b[1;32mlambda\u001b[0m \u001b[0mx\u001b[0m\u001b[1;33m:\u001b[0m \u001b[0mlinear_classifer\u001b[0m\u001b[1;33m.\u001b[0m\u001b[0msoftmax_with_cross_entropy\u001b[0m\u001b[1;33m(\u001b[0m\u001b[0mx\u001b[0m\u001b[1;33m,\u001b[0m \u001b[1;36m1\u001b[0m\u001b[1;33m)\u001b[0m\u001b[1;33m,\u001b[0m \u001b[0mnp\u001b[0m\u001b[1;33m.\u001b[0m\u001b[0marray\u001b[0m\u001b[1;33m(\u001b[0m\u001b[1;33m[\u001b[0m \u001b[1;36m1\u001b[0m\u001b[1;33m,\u001b[0m\u001b[1;36m0\u001b[0m\u001b[1;33m,\u001b[0m\u001b[1;36m0\u001b[0m\u001b[1;33m]\u001b[0m\u001b[1;33m,\u001b[0m \u001b[0mnp\u001b[0m\u001b[1;33m.\u001b[0m\u001b[0mfloat\u001b[0m\u001b[1;33m)\u001b[0m\u001b[1;33m)\u001b[0m\u001b[1;33m\u001b[0m\u001b[1;33m\u001b[0m\u001b[0m\n\u001b[0m",
      "\u001b[1;32mD:\\Python\\layman-s-Deep-Learning-\\assignments\\assignment1\\gradient_check.py\u001b[0m in \u001b[0;36mcheck_gradient\u001b[1;34m(f, x, delta, tol)\u001b[0m\n\u001b[0;32m     21\u001b[0m \u001b[1;33m\u001b[0m\u001b[0m\n\u001b[0;32m     22\u001b[0m     \u001b[0morig_x\u001b[0m \u001b[1;33m=\u001b[0m \u001b[0mx\u001b[0m\u001b[1;33m.\u001b[0m\u001b[0mcopy\u001b[0m\u001b[1;33m(\u001b[0m\u001b[1;33m)\u001b[0m\u001b[1;33m\u001b[0m\u001b[1;33m\u001b[0m\u001b[0m\n\u001b[1;32m---> 23\u001b[1;33m     \u001b[0mfx\u001b[0m\u001b[1;33m,\u001b[0m \u001b[0manalytic_grad\u001b[0m \u001b[1;33m=\u001b[0m \u001b[0mf\u001b[0m\u001b[1;33m(\u001b[0m\u001b[0mx\u001b[0m\u001b[1;33m)\u001b[0m\u001b[1;33m\u001b[0m\u001b[1;33m\u001b[0m\u001b[0m\n\u001b[0m\u001b[0;32m     24\u001b[0m     \u001b[1;32massert\u001b[0m \u001b[0mnp\u001b[0m\u001b[1;33m.\u001b[0m\u001b[0mall\u001b[0m\u001b[1;33m(\u001b[0m\u001b[0mnp\u001b[0m\u001b[1;33m.\u001b[0m\u001b[0misclose\u001b[0m\u001b[1;33m(\u001b[0m\u001b[0morig_x\u001b[0m\u001b[1;33m,\u001b[0m \u001b[0mx\u001b[0m\u001b[1;33m,\u001b[0m \u001b[0mtol\u001b[0m\u001b[1;33m)\u001b[0m\u001b[1;33m)\u001b[0m\u001b[1;33m,\u001b[0m \u001b[1;34m\"Functions shouldn't modify input variables\"\u001b[0m\u001b[1;33m\u001b[0m\u001b[1;33m\u001b[0m\u001b[0m\n\u001b[0;32m     25\u001b[0m \u001b[1;33m\u001b[0m\u001b[0m\n",
      "\u001b[1;32m<ipython-input-22-2837c8be80ff>\u001b[0m in \u001b[0;36m<lambda>\u001b[1;34m(x)\u001b[0m\n\u001b[0;32m      1\u001b[0m \u001b[1;31m# TODO Implement combined function orsoftmax and cross entropy and produces gradient #-2.0491237621641485\u001b[0m\u001b[1;33m\u001b[0m\u001b[1;33m\u001b[0m\u001b[1;33m\u001b[0m\u001b[0m\n\u001b[0;32m      2\u001b[0m \u001b[1;33m\u001b[0m\u001b[0m\n\u001b[1;32m----> 3\u001b[1;33m \u001b[0mcheck_gradient\u001b[0m\u001b[1;33m(\u001b[0m\u001b[1;32mlambda\u001b[0m \u001b[0mx\u001b[0m\u001b[1;33m:\u001b[0m \u001b[0mlinear_classifer\u001b[0m\u001b[1;33m.\u001b[0m\u001b[0msoftmax_with_cross_entropy\u001b[0m\u001b[1;33m(\u001b[0m\u001b[0mx\u001b[0m\u001b[1;33m,\u001b[0m \u001b[1;36m1\u001b[0m\u001b[1;33m)\u001b[0m\u001b[1;33m,\u001b[0m \u001b[0mnp\u001b[0m\u001b[1;33m.\u001b[0m\u001b[0marray\u001b[0m\u001b[1;33m(\u001b[0m\u001b[1;33m[\u001b[0m \u001b[1;36m1\u001b[0m\u001b[1;33m,\u001b[0m\u001b[1;36m0\u001b[0m\u001b[1;33m,\u001b[0m\u001b[1;36m0\u001b[0m\u001b[1;33m]\u001b[0m\u001b[1;33m,\u001b[0m \u001b[0mnp\u001b[0m\u001b[1;33m.\u001b[0m\u001b[0mfloat\u001b[0m\u001b[1;33m)\u001b[0m\u001b[1;33m)\u001b[0m\u001b[1;33m\u001b[0m\u001b[1;33m\u001b[0m\u001b[0m\n\u001b[0m",
      "\u001b[1;32mD:\\Python\\layman-s-Deep-Learning-\\assignments\\assignment1\\linear_classifer.py\u001b[0m in \u001b[0;36msoftmax_with_cross_entropy\u001b[1;34m(predictions, target_index)\u001b[0m\n\u001b[0;32m     65\u001b[0m \u001b[1;33m\u001b[0m\u001b[0m\n\u001b[0;32m     66\u001b[0m     \u001b[0msoftmax_\u001b[0m \u001b[1;33m=\u001b[0m \u001b[0msoftmax\u001b[0m\u001b[1;33m(\u001b[0m\u001b[0mpredictions\u001b[0m\u001b[1;33m)\u001b[0m\u001b[1;33m\u001b[0m\u001b[1;33m\u001b[0m\u001b[0m\n\u001b[1;32m---> 67\u001b[1;33m     \u001b[0mloss\u001b[0m \u001b[1;33m=\u001b[0m \u001b[0mcross_entropy_loss\u001b[0m\u001b[1;33m(\u001b[0m\u001b[0msoftmax_\u001b[0m\u001b[1;33m,\u001b[0m\u001b[0mtarget_index\u001b[0m\u001b[1;33m)\u001b[0m\u001b[1;33m\u001b[0m\u001b[1;33m\u001b[0m\u001b[0m\n\u001b[0m\u001b[0;32m     68\u001b[0m \u001b[1;33m\u001b[0m\u001b[0m\n\u001b[0;32m     69\u001b[0m     \u001b[0mprediction\u001b[0m \u001b[1;33m=\u001b[0m \u001b[0msoftmax_\u001b[0m\u001b[1;33m.\u001b[0m\u001b[0mcopy\u001b[0m\u001b[1;33m(\u001b[0m\u001b[1;33m)\u001b[0m\u001b[1;33m\u001b[0m\u001b[1;33m\u001b[0m\u001b[0m\n",
      "\u001b[1;32mD:\\Python\\layman-s-Deep-Learning-\\assignments\\assignment1\\linear_classifer.py\u001b[0m in \u001b[0;36mcross_entropy_loss\u001b[1;34m(probs, target_index)\u001b[0m\n\u001b[0;32m     37\u001b[0m     '''\n\u001b[0;32m     38\u001b[0m \u001b[1;33m\u001b[0m\u001b[0m\n\u001b[1;32m---> 39\u001b[1;33m     \u001b[0mlog\u001b[0m \u001b[1;33m=\u001b[0m   \u001b[0mnp\u001b[0m\u001b[1;33m.\u001b[0m\u001b[0msum\u001b[0m\u001b[1;33m(\u001b[0m\u001b[1;33m-\u001b[0m \u001b[0mnp\u001b[0m\u001b[1;33m.\u001b[0m\u001b[0mlog\u001b[0m\u001b[1;33m(\u001b[0m\u001b[0mprobs\u001b[0m\u001b[1;33m[\u001b[0m\u001b[0mnp\u001b[0m\u001b[1;33m.\u001b[0m\u001b[0marange\u001b[0m\u001b[1;33m(\u001b[0m\u001b[0mprobs\u001b[0m\u001b[1;33m.\u001b[0m\u001b[0mshape\u001b[0m\u001b[1;33m[\u001b[0m\u001b[1;36m0\u001b[0m\u001b[1;33m]\u001b[0m\u001b[1;33m)\u001b[0m\u001b[1;33m,\u001b[0m\u001b[0mtarget_index\u001b[0m\u001b[1;33m.\u001b[0m\u001b[0mflatten\u001b[0m\u001b[1;33m(\u001b[0m\u001b[1;33m)\u001b[0m\u001b[1;33m]\u001b[0m\u001b[1;33m)\u001b[0m\u001b[1;33m)\u001b[0m\u001b[1;33m\u001b[0m\u001b[1;33m\u001b[0m\u001b[0m\n\u001b[0m\u001b[0;32m     40\u001b[0m     \u001b[1;31m# pp ('log = ',log)\u001b[0m\u001b[1;33m\u001b[0m\u001b[1;33m\u001b[0m\u001b[1;33m\u001b[0m\u001b[0m\n\u001b[0;32m     41\u001b[0m     \u001b[1;32mreturn\u001b[0m \u001b[0mlog\u001b[0m\u001b[1;33m\u001b[0m\u001b[1;33m\u001b[0m\u001b[0m\n",
      "\u001b[1;31mAttributeError\u001b[0m: 'int' object has no attribute 'flatten'"
     ]
    }
   ],
   "source": [
    "# TODO Implement combined function orsoftmax and cross entropy and produces gradient #-2.0491237621641485\n",
    "\n",
    "check_gradient(lambda x: linear_classifer.softmax_with_cross_entropy(x, 1), np.array([ 1,0,0], np.float))"
   ]
  },
  {
   "cell_type": "markdown",
   "metadata": {},
   "source": [
    "В качестве метода тренировки мы будем использовать стохастический градиентный спуск (stochastic gradient descent или SGD), который работает с батчами сэмплов. \n",
    "\n",
    "Поэтому все наши фукнции будут получать не один пример, а батч, то есть входом будет не вектор из `num_classes` оценок, а матрица размерности `batch_size, num_classes`. Индекс примера в батче всегда будет первым измерением.\n",
    "\n",
    "Следующий шаг - переписать наши функции так, чтобы они поддерживали батчи.\n",
    "\n",
    "Финальное значение функции ошибки должно остаться числом, и оно равно среднему значению ошибки среди всех примеров в батче."
   ]
  },
  {
   "cell_type": "code",
   "execution_count": 8,
   "metadata": {
    "scrolled": false
   },
   "outputs": [
    {
     "name": "stdout",
     "output_type": "stream",
     "text": [
      "predictions = [[ 1.  2. -1.  1.]]\n",
      "targets =  [[2]]\n",
      "enter of the function =  [[ 1.  2. -1.  1.]] [[2]]\n",
      "soft max = [[0.20603191 0.56005279 0.02788339 0.20603191]]\n",
      "log =  3.5797242232074917\n",
      "=N_SUMPLES= 1\n",
      "loss , grand (prediction) =  3.5797242232074917 [[ 0.20603191  0.56005279 -0.97211661  0.20603191]] \n",
      "                                                                                                    \n",
      "enter of the function =  [[ 1.00002  2.      -1.       1.     ]] [[2]]\n",
      "soft max = [[0.20603518 0.56005049 0.02788327 0.20603106]]\n",
      "log =  3.5797283438783922\n",
      "=N_SUMPLES= 1\n",
      "loss , grand (prediction) =  3.5797283438783922 [[ 0.20603518  0.56005049 -0.97211673  0.20603106]] \n",
      "                                                                                                    \n",
      "enter of the function =  [[ 0.99998  2.      -1.       1.     ]] [[2]]\n",
      "soft max = [[0.20602864 0.5600551  0.0278835  0.20603276]]\n",
      "log =  3.5797201026020242\n",
      "=N_SUMPLES= 1\n",
      "loss , grand (prediction) =  3.5797201026020242 [[ 0.20602864  0.5600551  -0.9721165   0.20603276]] \n",
      "                                                                                                    \n",
      "==GRAD_CHECK== at (0, 0)  num = 0.20603190920009948 anal = 0.20603190919001857\n",
      "enter of the function =  [[ 1.       2.00002 -1.       1.     ]] [[2]]\n",
      "soft max = [[0.2060296  0.56005772 0.02788307 0.2060296 ]]\n",
      "log =  3.579735424312667\n",
      "=N_SUMPLES= 1\n",
      "loss , grand (prediction) =  3.579735424312667 [[ 0.2060296   0.56005772 -0.97211693  0.2060296 ]] \n",
      "                                                                                                   \n",
      "enter of the function =  [[ 1.       1.99998 -1.       1.     ]] [[2]]\n",
      "soft max = [[0.20603422 0.56004787 0.0278837  0.20603422]]\n",
      "log =  3.5797130222008735\n",
      "=N_SUMPLES= 1\n",
      "loss , grand (prediction) =  3.5797130222008735 [[ 0.20603422  0.56004787 -0.9721163   0.20603422]] \n",
      "                                                                                                    \n",
      "==GRAD_CHECK== at (0, 1)  num = 0.5600527948401712 anal = 0.5600527948339517\n",
      "enter of the function =  [[ 1.       2.      -0.99998  1.     ]] [[2]]\n",
      "soft max = [[0.20603179 0.56005248 0.02788393 0.20603179]]\n",
      "log =  3.5797047808806486\n",
      "=N_SUMPLES= 1\n",
      "loss , grand (prediction) =  3.5797047808806486 [[ 0.20603179  0.56005248 -0.97211607  0.20603179]] \n",
      "                                                                                                    \n",
      "enter of the function =  [[ 1.       2.      -1.00002  1.     ]] [[2]]\n",
      "soft max = [[0.20603202 0.56005311 0.02788284 0.20603202]]\n",
      "log =  3.5797436655451773\n",
      "=N_SUMPLES= 1\n",
      "loss , grand (prediction) =  3.5797436655451773 [[ 0.20603202  0.56005311 -0.97211716  0.20603202]] \n",
      "                                                                                                    \n",
      "==GRAD_CHECK== at (0, 2)  num = -0.9721166132181657 anal = -0.9721166132139888\n",
      "enter of the function =  [[ 1.       2.      -1.       1.00002]] [[2]]\n",
      "soft max = [[0.20603106 0.56005049 0.02788327 0.20603518]]\n",
      "log =  3.5797283438783922\n",
      "=N_SUMPLES= 1\n",
      "loss , grand (prediction) =  3.5797283438783922 [[ 0.20603106  0.56005049 -0.97211673  0.20603518]] \n",
      "                                                                                                    \n",
      "enter of the function =  [[ 1.       2.      -1.       0.99998]] [[2]]\n",
      "soft max = [[0.20603276 0.5600551  0.0278835  0.20602864]]\n",
      "log =  3.5797201026020242\n",
      "=N_SUMPLES= 1\n",
      "loss , grand (prediction) =  3.5797201026020242 [[ 0.20603276  0.5600551  -0.9721165   0.20602864]] \n",
      "                                                                                                    \n",
      "==GRAD_CHECK== at (0, 3)  num = 0.20603190920009948 anal = 0.20603190919001857\n",
      "Gradient check passed!\n",
      "predictions = [[ 2. -1. -1.  1.]\n",
      " [ 0.  1.  1.  1.]\n",
      " [ 1.  2. -1.  2.]]\n",
      "targets =  [[3]\n",
      " [3]\n",
      " [2]]\n",
      "enter of the function =  [[ 2. -1. -1.  1.]  [[3] \n",
      "                          [ 0.  1.  1.  1.]   [3] \n",
      "                          [ 1.  2. -1.  2.]]  [2]]\n",
      "soft max = [[0.19515646 0.00971627 0.00971627 0.07179405] \n",
      "            [0.02641156 0.07179405 0.07179405 0.07179405] \n",
      "            [0.07179405 0.19515646 0.00971627 0.19515646]]\n",
      "log =  9.901861007689417\n",
      "=N_SUMPLES= 3\n",
      "loss , grand (prediction) =  3.3006203358964723 [[ 0.19515646  0.00971627  0.00971627 -0.26153928]  \n",
      "                                                 [ 0.02641156  0.07179405  0.07179405 -0.26153928]  \n",
      "                                                 [ 0.07179405  0.19515646 -0.32361707  0.19515646]] \n",
      "enter of the function =  [[ 2.00002 -1.      -1.       1.     ]  [[3] \n",
      "                          [ 0.       1.       1.       1.     ]   [3] \n",
      "                          [ 1.       2.      -1.       2.     ]]  [2]]\n",
      "soft max = [[0.1951596  0.00971623 0.00971623 0.07179377] \n",
      "            [0.02641145 0.07179377 0.07179377 0.07179377] \n",
      "            [0.07179377 0.1951557  0.00971623 0.1951557 ]]\n",
      "log =  9.901872717171424\n",
      "=N_SUMPLES= 3\n",
      "loss , grand (prediction) =  3.300624239057141 [[ 0.1951596   0.00971623  0.00971623 -0.26153956]  \n",
      "                                                [ 0.02641145  0.07179377  0.07179377 -0.26153956]  \n",
      "                                                [ 0.07179377  0.1951557  -0.3236171   0.1951557 ]] \n",
      "enter of the function =  [[ 1.99998 -1.      -1.       1.     ]  [[3] \n",
      "                          [ 0.       1.       1.       1.     ]   [3] \n",
      "                          [ 1.       2.      -1.       2.     ]]  [2]]\n",
      "soft max = [[0.19515332 0.00971631 0.00971631 0.07179433] \n",
      "            [0.02641166 0.07179433 0.07179433 0.07179433] \n",
      "            [0.07179433 0.19515722 0.00971631 0.19515722]]\n",
      "log =  9.901849298395895\n",
      "=N_SUMPLES= 3\n",
      "loss , grand (prediction) =  3.300616432798632 [[ 0.19515332  0.00971631  0.00971631 -0.261539  ]  \n",
      "                                                [ 0.02641166  0.07179433  0.07179433 -0.261539  ]  \n",
      "                                                [ 0.07179433  0.19515722 -0.32361703  0.19515722]] \n",
      "==GRAD_CHECK== at (0, 0)  num = 0.19515646273449147 anal = 0.19515646271894127\n",
      "enter of the function =  [[ 2.      -0.99998 -1.       1.     ]  [[3] \n",
      "                          [ 0.       1.       1.       1.     ]   [3] \n",
      "                          [ 1.       2.      -1.       2.     ]]  [2]]\n",
      "soft max = [[0.19515642 0.00971646 0.00971627 0.07179404] \n",
      "            [0.02641155 0.07179404 0.07179404 0.07179404] \n",
      "            [0.07179404 0.19515642 0.00971627 0.19515642]]\n",
      "log =  9.901861590671281\n",
      "=N_SUMPLES= 3\n",
      "loss , grand (prediction) =  3.3006205302237603 [[ 0.19515642  0.00971646  0.00971627 -0.2615393 ]  \n",
      "                                                 [ 0.02641155  0.07179404  0.07179404 -0.2615393 ]  \n",
      "                                                 [ 0.07179404  0.19515642 -0.32361707  0.19515642]] \n",
      "enter of the function =  [[ 2.      -1.00002 -1.       1.     ]  [[3] \n",
      "                          [ 0.       1.       1.       1.     ]   [3] \n",
      "                          [ 1.       2.      -1.       2.     ]]  [2]]\n",
      "soft max = [[0.1951565  0.00971608 0.00971627 0.07179406] \n",
      "            [0.02641156 0.07179406 0.07179406 0.07179406] \n",
      "            [0.07179406 0.1951565  0.00971627 0.1951565 ]]\n",
      "log =  9.901860424719102\n",
      "=N_SUMPLES= 3\n",
      "loss , grand (prediction) =  3.300620141573034 [[ 0.1951565   0.00971608  0.00971627 -0.26153927]  \n",
      "                                                [ 0.02641156  0.07179406  0.07179406 -0.26153927]  \n",
      "                                                [ 0.07179406  0.1951565  -0.32361706  0.1951565 ]] \n",
      "==GRAD_CHECK== at (0, 1)  num = 0.009716268156712005 anal = 0.00971626815181842\n",
      "enter of the function =  [[ 2.      -1.      -0.99998  1.     ]  [[3] \n",
      "                          [ 0.       1.       1.       1.     ]   [3] \n",
      "                          [ 1.       2.      -1.       2.     ]]  [2]]\n",
      "soft max = [[0.19515642 0.00971627 0.00971646 0.07179404] \n",
      "            [0.02641155 0.07179404 0.07179404 0.07179404] \n",
      "            [0.07179404 0.19515642 0.00971627 0.19515642]]\n",
      "log =  9.901861590671281\n",
      "=N_SUMPLES= 3\n",
      "loss , grand (prediction) =  3.3006205302237603 [[ 0.19515642  0.00971627  0.00971646 -0.2615393 ]  \n",
      "                                                 [ 0.02641155  0.07179404  0.07179404 -0.2615393 ]  \n",
      "                                                 [ 0.07179404  0.19515642 -0.32361707  0.19515642]] \n",
      "enter of the function =  [[ 2.      -1.      -1.00002  1.     ]  [[3] \n",
      "                          [ 0.       1.       1.       1.     ]   [3] \n",
      "                          [ 1.       2.      -1.       2.     ]]  [2]]\n",
      "soft max = [[0.1951565  0.00971627 0.00971608 0.07179406] \n",
      "            [0.02641156 0.07179406 0.07179406 0.07179406] \n",
      "            [0.07179406 0.1951565  0.00971627 0.1951565 ]]\n",
      "log =  9.901860424719102\n",
      "=N_SUMPLES= 3\n",
      "loss , grand (prediction) =  3.300620141573034 [[ 0.1951565   0.00971627  0.00971608 -0.26153927]  \n",
      "                                                [ 0.02641156  0.07179406  0.07179406 -0.26153927]  \n",
      "                                                [ 0.07179406  0.1951565  -0.32361706  0.1951565 ]] \n",
      "==GRAD_CHECK== at (0, 2)  num = 0.009716268156712005 anal = 0.00971626815181842\n",
      "enter of the function =  [[ 2.      -1.      -1.       1.00002]  [[3] \n",
      "                          [ 0.       1.       1.       1.     ]   [3] \n",
      "                          [ 1.       2.      -1.       2.     ]]  [2]]\n",
      "soft max = [[0.19515618 0.00971625 0.00971625 0.07179538] \n",
      "            [0.02641152 0.07179395 0.07179395 0.07179395] \n",
      "            [0.07179395 0.19515618 0.00971625 0.19515618]]\n",
      "log =  9.901845315372428\n",
      "=N_SUMPLES= 3\n",
      "loss , grand (prediction) =  3.300615105124143 [[ 0.19515618  0.00971625  0.00971625 -0.26153795]  \n",
      "                                                [ 0.02641152  0.07179395  0.07179395 -0.26153939]  \n",
      "                                                [ 0.07179395  0.19515618 -0.32361708  0.19515618]] \n",
      "enter of the function =  [[ 2.      -1.      -1.       0.99998]  [[3] \n",
      "                          [ 0.       1.       1.       1.     ]   [3] \n",
      "                          [ 1.       2.      -1.       2.     ]]  [2]]\n",
      "soft max = [[0.19515674 0.00971628 0.00971628 0.07179272] \n",
      "            [0.02641159 0.07179415 0.07179415 0.07179415] \n",
      "            [0.07179415 0.19515674 0.00971628 0.19515674]]\n",
      "log =  9.901876700086374\n",
      "=N_SUMPLES= 3\n",
      "loss , grand (prediction) =  3.3006255666954583 [[ 0.19515674  0.00971628  0.00971628 -0.26154062]  \n",
      "                                                 [ 0.02641159  0.07179415  0.07179415 -0.26153918]  \n",
      "                                                 [ 0.07179415  0.19515674 -0.32361705  0.19515674]] \n",
      "==GRAD_CHECK== at (0, 3)  num = -0.2615392828864138 anal = -0.2615392828872938\n",
      "enter of the function =  [[ 2.e+00 -1.e+00 -1.e+00  1.e+00]  [[3] \n",
      "                          [ 2.e-05  1.e+00  1.e+00  1.e+00]   [3] \n",
      "                          [ 1.e+00  2.e+00 -1.e+00  2.e+00]]  [2]]\n",
      "soft max = [[0.19515636 0.00971626 0.00971626 0.07179401] \n",
      "            [0.02641207 0.07179401 0.07179401 0.07179401] \n",
      "            [0.07179401 0.19515636 0.00971626 0.19515636]]\n",
      "log =  9.901862592398155\n",
      "=N_SUMPLES= 3\n",
      "loss , grand (prediction) =  3.300620864132718 [[ 0.19515636  0.00971626  0.00971626 -0.26153932]  \n",
      "                                                [ 0.02641207  0.07179401  0.07179401 -0.26153932]  \n",
      "                                                [ 0.07179401  0.19515636 -0.32361707  0.19515636]] \n",
      "enter of the function =  [[ 2.e+00 -1.e+00 -1.e+00  1.e+00]  [[3] \n",
      "                          [-2.e-05  1.e+00  1.e+00  1.e+00]   [3] \n",
      "                          [ 1.e+00  2.e+00 -1.e+00  2.e+00]]  [2]]\n",
      "soft max = [[0.19515657 0.00971627 0.00971627 0.07179409] \n",
      "            [0.02641104 0.07179409 0.07179409 0.07179409] \n",
      "            [0.07179409 0.19515657 0.00971627 0.19515657]]\n",
      "log =  9.901859423011537\n",
      "=N_SUMPLES= 3\n",
      "loss , grand (prediction) =  3.3006198076705124 [[ 0.19515657  0.00971627  0.00971627 -0.26153924]  \n",
      "                                                 [ 0.02641104  0.07179409  0.07179409 -0.26153924]  \n",
      "                                                 [ 0.07179409  0.19515657 -0.32361706  0.19515657]] \n",
      "==GRAD_CHECK== at (1, 0)  num = 0.02641155514293558 anal = 0.026411555157523366\n",
      "enter of the function =  [[ 2.      -1.      -1.       1.     ]  [[3] \n",
      "                          [ 0.       1.00002  1.       1.     ]   [3] \n",
      "                          [ 1.       2.      -1.       2.     ]]  [2]]\n",
      "soft max = [[0.19515618 0.00971625 0.00971625 0.07179395] \n",
      "            [0.02641152 0.07179538 0.07179395 0.07179395] \n",
      "            [0.07179395 0.19515618 0.00971625 0.19515618]]\n",
      "log =  9.90186531537243\n",
      "=N_SUMPLES= 3\n",
      "loss , grand (prediction) =  3.30062177179081 [[ 0.19515618  0.00971625  0.00971625 -0.26153939]  \n",
      "                                               [ 0.02641152  0.07179538  0.07179395 -0.26153939]  \n",
      "                                               [ 0.07179395  0.19515618 -0.32361708  0.19515618]] \n",
      "enter of the function =  [[ 2.      -1.      -1.       1.     ]  [[3] \n",
      "                          [ 0.       0.99998  1.       1.     ]   [3] \n",
      "                          [ 1.       2.      -1.       2.     ]]  [2]]\n",
      "soft max = [[0.19515674 0.00971628 0.00971628 0.07179415] \n",
      "            [0.02641159 0.07179272 0.07179415 0.07179415] \n",
      "            [0.07179415 0.19515674 0.00971628 0.19515674]]\n",
      "log =  9.901856700086373\n",
      "=N_SUMPLES= 3\n",
      "loss , grand (prediction) =  3.300618900028791 [[ 0.19515674  0.00971628  0.00971628 -0.26153918]  \n",
      "                                                [ 0.02641159  0.07179272  0.07179415 -0.26153918]  \n",
      "                                                [ 0.07179415  0.19515674 -0.32361705  0.19515674]] \n",
      "==GRAD_CHECK== at (1, 1)  num = 0.07179405047130771 anal = 0.07179405044603954\n",
      "enter of the function =  [[ 2.      -1.      -1.       1.     ]  [[3] \n",
      "                          [ 0.       1.       1.00002  1.     ]   [3] \n",
      "                          [ 1.       2.      -1.       2.     ]]  [2]]\n",
      "soft max = [[0.19515618 0.00971625 0.00971625 0.07179395] \n",
      "            [0.02641152 0.07179395 0.07179538 0.07179395] \n",
      "            [0.07179395 0.19515618 0.00971625 0.19515618]]\n",
      "log =  9.90186531537243\n",
      "=N_SUMPLES= 3\n",
      "loss , grand (prediction) =  3.30062177179081 [[ 0.19515618  0.00971625  0.00971625 -0.26153939]  \n",
      "                                               [ 0.02641152  0.07179395  0.07179538 -0.26153939]  \n",
      "                                               [ 0.07179395  0.19515618 -0.32361708  0.19515618]] \n",
      "enter of the function =  [[ 2.      -1.      -1.       1.     ]  [[3] \n",
      "                          [ 0.       1.       0.99998  1.     ]   [3] \n",
      "                          [ 1.       2.      -1.       2.     ]]  [2]]\n",
      "soft max = [[0.19515674 0.00971628 0.00971628 0.07179415] \n",
      "            [0.02641159 0.07179415 0.07179272 0.07179415] \n",
      "            [0.07179415 0.19515674 0.00971628 0.19515674]]\n",
      "log =  9.901856700086373\n",
      "=N_SUMPLES= 3\n",
      "loss , grand (prediction) =  3.300618900028791 [[ 0.19515674  0.00971628  0.00971628 -0.26153918]  \n",
      "                                                [ 0.02641159  0.07179415  0.07179272 -0.26153918]  \n",
      "                                                [ 0.07179415  0.19515674 -0.32361705  0.19515674]] \n",
      "==GRAD_CHECK== at (1, 2)  num = 0.07179405047130771 anal = 0.07179405044603954\n",
      "enter of the function =  [[ 2.      -1.      -1.       1.     ]  [[3] \n",
      "                          [ 0.       1.       1.       1.00002]   [3] \n",
      "                          [ 1.       2.      -1.       2.     ]]  [2]]\n",
      "soft max = [[0.19515618 0.00971625 0.00971625 0.07179395] \n",
      "            [0.02641152 0.07179395 0.07179395 0.07179538] \n",
      "            [0.07179395 0.19515618 0.00971625 0.19515618]]\n",
      "log =  9.901845315372428\n",
      "=N_SUMPLES= 3\n",
      "loss , grand (prediction) =  3.300615105124143 [[ 0.19515618  0.00971625  0.00971625 -0.26153939]  \n",
      "                                                [ 0.02641152  0.07179395  0.07179395 -0.26153795]  \n",
      "                                                [ 0.07179395  0.19515618 -0.32361708  0.19515618]] \n",
      "enter of the function =  [[ 2.      -1.      -1.       1.     ]  [[3] \n",
      "                          [ 0.       1.       1.       0.99998]   [3] \n",
      "                          [ 1.       2.      -1.       2.     ]]  [2]]\n",
      "soft max = [[0.19515674 0.00971628 0.00971628 0.07179415] \n",
      "            [0.02641159 0.07179415 0.07179415 0.07179272] \n",
      "            [0.07179415 0.19515674 0.00971628 0.19515674]]\n",
      "log =  9.901876700086374\n",
      "=N_SUMPLES= 3\n",
      "loss , grand (prediction) =  3.3006255666954583 [[ 0.19515674  0.00971628  0.00971628 -0.26153918]  \n",
      "                                                 [ 0.02641159  0.07179415  0.07179415 -0.26154062]  \n",
      "                                                 [ 0.07179415  0.19515674 -0.32361705  0.19515674]] \n",
      "==GRAD_CHECK== at (1, 3)  num = -0.2615392828864138 anal = -0.2615392828872938\n",
      "enter of the function =  [[ 2.      -1.      -1.       1.     ]  [[3] \n",
      "                          [ 0.       1.       1.       1.     ]   [3] \n",
      "                          [ 1.00002  2.      -1.       2.     ]]  [2]]\n",
      "soft max = [[0.19515618 0.00971625 0.00971625 0.07179395] \n",
      "            [0.02641152 0.07179395 0.07179395 0.07179395] \n",
      "            [0.07179538 0.19515618 0.00971625 0.19515618]]\n",
      "log =  9.90186531537243\n",
      "=N_SUMPLES= 3\n",
      "loss , grand (prediction) =  3.30062177179081 [[ 0.19515618  0.00971625  0.00971625 -0.26153939]  \n",
      "                                               [ 0.02641152  0.07179395  0.07179395 -0.26153939]  \n",
      "                                               [ 0.07179538  0.19515618 -0.32361708  0.19515618]] \n",
      "enter of the function =  [[ 2.      -1.      -1.       1.     ]  [[3] \n",
      "                          [ 0.       1.       1.       1.     ]   [3] \n",
      "                          [ 0.99998  2.      -1.       2.     ]]  [2]]\n",
      "soft max = [[0.19515674 0.00971628 0.00971628 0.07179415] \n",
      "            [0.02641159 0.07179415 0.07179415 0.07179415] \n",
      "            [0.07179272 0.19515674 0.00971628 0.19515674]]\n",
      "log =  9.901856700086373\n",
      "=N_SUMPLES= 3\n",
      "loss , grand (prediction) =  3.300618900028791 [[ 0.19515674  0.00971628  0.00971628 -0.26153918]  \n",
      "                                                [ 0.02641159  0.07179415  0.07179415 -0.26153918]  \n",
      "                                                [ 0.07179272  0.19515674 -0.32361705  0.19515674]] \n",
      "==GRAD_CHECK== at (2, 0)  num = 0.07179405047130771 anal = 0.07179405044603954\n",
      "enter of the function =  [[ 2.      -1.      -1.       1.     ]  [[3] \n",
      "                          [ 0.       1.       1.       1.     ]   [3] \n",
      "                          [ 1.       2.00002 -1.       2.     ]]  [2]]\n",
      "soft max = [[0.1951557  0.00971623 0.00971623 0.07179377] \n",
      "            [0.02641145 0.07179377 0.07179377 0.07179377] \n",
      "            [0.07179377 0.1951596  0.00971623 0.1951557 ]]\n",
      "log =  9.901872717171424\n",
      "=N_SUMPLES= 3\n",
      "loss , grand (prediction) =  3.300624239057141 [[ 0.1951557   0.00971623  0.00971623 -0.26153956]  \n",
      "                                                [ 0.02641145  0.07179377  0.07179377 -0.26153956]  \n",
      "                                                [ 0.07179377  0.1951596  -0.3236171   0.1951557 ]] \n",
      "enter of the function =  [[ 2.      -1.      -1.       1.     ]  [[3] \n",
      "                          [ 0.       1.       1.       1.     ]   [3] \n",
      "                          [ 1.       1.99998 -1.       2.     ]]  [2]]\n",
      "soft max = [[0.19515722 0.00971631 0.00971631 0.07179433] \n",
      "            [0.02641166 0.07179433 0.07179433 0.07179433] \n",
      "            [0.07179433 0.19515332 0.00971631 0.19515722]]\n",
      "log =  9.901849298395895\n",
      "=N_SUMPLES= 3\n",
      "loss , grand (prediction) =  3.300616432798632 [[ 0.19515722  0.00971631  0.00971631 -0.261539  ]  \n",
      "                                                [ 0.02641166  0.07179433  0.07179433 -0.261539  ]  \n",
      "                                                [ 0.07179433  0.19515332 -0.32361703  0.19515722]] \n",
      "==GRAD_CHECK== at (2, 1)  num = 0.19515646273449147 anal = 0.19515646271894127\n",
      "enter of the function =  [[ 2.      -1.      -1.       1.     ]  [[3] \n",
      "                          [ 0.       1.       1.       1.     ]   [3] \n",
      "                          [ 1.       2.      -0.99998  2.     ]]  [2]]\n",
      "soft max = [[0.19515642 0.00971627 0.00971627 0.07179404] \n",
      "            [0.02641155 0.07179404 0.07179404 0.07179404] \n",
      "            [0.07179404 0.19515642 0.00971646 0.19515642]]\n",
      "log =  9.90184159067128\n",
      "=N_SUMPLES= 3\n",
      "loss , grand (prediction) =  3.300613863557093 [[ 0.19515642  0.00971627  0.00971627 -0.2615393 ]  \n",
      "                                                [ 0.02641155  0.07179404  0.07179404 -0.2615393 ]  \n",
      "                                                [ 0.07179404  0.19515642 -0.32361687  0.19515642]] \n",
      "enter of the function =  [[ 2.      -1.      -1.       1.     ]  [[3] \n",
      "                          [ 0.       1.       1.       1.     ]   [3] \n",
      "                          [ 1.       2.      -1.00002  2.     ]]  [2]]\n",
      "soft max = [[0.1951565  0.00971627 0.00971627 0.07179406] \n",
      "            [0.02641156 0.07179406 0.07179406 0.07179406] \n",
      "            [0.07179406 0.1951565  0.00971608 0.1951565 ]]\n",
      "log =  9.901880424719103\n",
      "=N_SUMPLES= 3\n",
      "loss , grand (prediction) =  3.300626808239701 [[ 0.1951565   0.00971627  0.00971627 -0.26153927]  \n",
      "                                                [ 0.02641156  0.07179406  0.07179406 -0.26153927]  \n",
      "                                                [ 0.07179406  0.1951565  -0.32361726  0.1951565 ]] \n",
      "==GRAD_CHECK== at (2, 2)  num = -0.3236170651899073 anal = -0.3236170651815149\n",
      "enter of the function =  [[ 2.      -1.      -1.       1.     ]  [[3] \n",
      "                          [ 0.       1.       1.       1.     ]   [3] \n",
      "                          [ 1.       2.      -1.       2.00002]]  [2]]\n",
      "soft max = [[0.1951557  0.00971623 0.00971623 0.07179377] \n",
      "            [0.02641145 0.07179377 0.07179377 0.07179377] \n",
      "            [0.07179377 0.1951557  0.00971623 0.1951596 ]]\n",
      "log =  9.901872717171424\n",
      "=N_SUMPLES= 3\n",
      "loss , grand (prediction) =  3.300624239057141 [[ 0.1951557   0.00971623  0.00971623 -0.26153956]  \n",
      "                                                [ 0.02641145  0.07179377  0.07179377 -0.26153956]  \n",
      "                                                [ 0.07179377  0.1951557  -0.3236171   0.1951596 ]] \n",
      "enter of the function =  [[ 2.      -1.      -1.       1.     ]  [[3] \n",
      "                          [ 0.       1.       1.       1.     ]   [3] \n",
      "                          [ 1.       2.      -1.       1.99998]]  [2]]\n",
      "soft max = [[0.19515722 0.00971631 0.00971631 0.07179433] \n",
      "            [0.02641166 0.07179433 0.07179433 0.07179433] \n",
      "            [0.07179433 0.19515722 0.00971631 0.19515332]]\n",
      "log =  9.901849298395895\n",
      "=N_SUMPLES= 3\n",
      "loss , grand (prediction) =  3.300616432798632 [[ 0.19515722  0.00971631  0.00971631 -0.261539  ]  \n",
      "                                                [ 0.02641166  0.07179433  0.07179433 -0.261539  ]  \n",
      "                                                [ 0.07179433  0.19515722 -0.32361703  0.19515332]] \n",
      "==GRAD_CHECK== at (2, 3)  num = 0.19515646273449147 anal = 0.19515646271894127\n",
      "Gradient check passed!\n"
     ]
    },
    {
     "data": {
      "text/plain": [
       "True"
      ]
     },
     "execution_count": 8,
     "metadata": {},
     "output_type": "execute_result"
    }
   ],
   "source": [
    "# TODO Extend combined function so it can receive a 2d array with batch of samples\n",
    "np.random.seed(42)\n",
    "# Test batch_size = 1\n",
    "num_classes = 4\n",
    "batch_size = 1\n",
    "predictions = np.random.randint(-1, 3, size=(batch_size, num_classes)).astype(np.float)\n",
    "pp('predictions =',predictions)\n",
    "target_index = np.random.randint(0, num_classes, size=(batch_size, 1)).astype(np.int)\n",
    "pp('targets = ',target_index)\n",
    "check_gradient(lambda x: linear_classifer.softmax_with_cross_entropy(x, target_index), predictions)\n",
    "\n",
    "# Test batch_size = 3\n",
    "num_classes = 4\n",
    "batch_size = 3\n",
    "predictions = np.random.randint(-1, 3, size=(batch_size, num_classes)).astype(np.float)\n",
    "print('predictions =',predictions)\n",
    "target_index = np.random.randint(0, num_classes, size=(batch_size, 1)).astype(np.int)\n",
    "print('targets = ',target_index)\n",
    "check_gradient(lambda x: linear_classifer.softmax_with_cross_entropy(x, target_index), predictions)"
   ]
  },
  {
   "cell_type": "markdown",
   "metadata": {},
   "source": [
    "### Наконец, реализуем сам линейный классификатор!\n",
    "\n",
    "softmax и cross-entropy получают на вход оценки, которые выдает линейный классификатор.\n",
    "\n",
    "Он делает это очень просто: для каждого класса есть набор весов, на которые надо умножить пиксели картинки и сложить. Получившееся число и является оценкой класса, идущей на вход softmax.\n",
    "\n",
    "Таким образом, линейный классификатор можно представить как умножение вектора с пикселями на матрицу W размера `num_features, num_classes`. Такой подход легко расширяется на случай батча векторов с пикселями X размера `batch_size, num_features`:\n",
    "\n",
    "`predictions = X * W`, где `*` - матричное умножение.\n",
    "\n",
    "Реализуйте функцию подсчета линейного классификатора и градиентов по весам `linear_softmax` в файле `linear_classifer.py`"
   ]
  },
  {
   "cell_type": "code",
   "execution_count": 12,
   "metadata": {},
   "outputs": [
    {
     "name": "stdout",
     "output_type": "stream",
     "text": [
      "enter of the function =  [[ 1. -1.]  [1 1]\n",
      "                          [ 0.  3.]]      \n",
      "soft max = [[0.11245721 0.01521943] \n",
      "            [0.0413707  0.83095266]]\n",
      "log =  4.370364905207625\n",
      "=N_SUMPLES= 2\n",
      "loss , grand (prediction) =  2.1851824526038124 [[ 0.11245721 -0.48478057]  \n",
      "                                                 [ 0.0413707   0.33095266]] \n",
      "loss , grand (prediction), grad by W =  2.1851824526038124 [[ 0.11245721 -0.48478057]  [[-0.11245721  0.48478057]  \n",
      "                                                            [ 0.0413707   0.33095266]]  [-0.07108652  0.81573323]  \n",
      "                                                                                        [ 0.15382791 -0.15382791]] \n",
      "[[-0.11245721  0.48478057] \n",
      " [-0.07108652  0.81573323] \n",
      " [ 0.15382791 -0.15382791]]\n",
      "enter of the function =  [[ 1. -1.]  [1 1]\n",
      "                          [ 0.  3.]]      \n",
      "soft max = [[0.11245721 0.01521943] \n",
      "            [0.0413707  0.83095266]]\n",
      "log =  4.370364905207625\n",
      "=N_SUMPLES= 2\n",
      "loss , grand (prediction) =  2.1851824526038124 [[ 0.11245721 -0.48478057]  \n",
      "                                                 [ 0.0413707   0.33095266]] \n",
      "loss , grand (prediction), grad by W =  2.1851824526038124 [[ 0.11245721 -0.48478057]  [[-0.11245721  0.48478057]  \n",
      "                                                            [ 0.0413707   0.33095266]]  [-0.07108652  0.81573323]  \n",
      "                                                                                        [ 0.15382791 -0.15382791]] \n",
      "enter of the function =  [[ 0.99998 -1.     ]  [1 1]\n",
      "                          [ 0.       3.     ]]      \n",
      "soft max = [[0.11245522 0.01521946] \n",
      "            [0.04137079 0.83095453]]\n",
      "log =  4.370360406959003\n",
      "=N_SUMPLES= 2\n",
      "loss , grand (prediction) =  2.1851802034795016 [[ 0.11245522 -0.48478054]  \n",
      "                                                 [ 0.04137079  0.33095453]] \n",
      "loss , grand (prediction), grad by W =  2.1851802034795016 [[ 0.11245522 -0.48478054]  [[-0.11245522  0.48478054]  \n",
      "                                                            [ 0.04137079  0.33095453]]  [-0.07108443  0.81573507]  \n",
      "                                                                                        [ 0.15382601 -0.15382601]] \n",
      "enter of the function =  [[ 1.00002 -1.     ]  [1 1]\n",
      "                          [ 0.       3.     ]]      \n",
      "soft max = [[0.11245921 0.01521939] \n",
      "            [0.0413706  0.83095079]]\n",
      "log =  4.370369403536097\n",
      "=N_SUMPLES= 2\n",
      "loss , grand (prediction) =  2.1851847017680486 [[ 0.11245921 -0.48478061]  \n",
      "                                                 [ 0.0413706   0.33095079]] \n",
      "loss , grand (prediction), grad by W =  2.1851847017680486 [[ 0.11245921 -0.48478061]  [[-0.11245921  0.48478061]  \n",
      "                                                            [ 0.0413706   0.33095079]]  [-0.07108861  0.8157314 ]  \n",
      "                                                                                        [ 0.15382981 -0.15382981]] \n",
      "==GRAD_CHECK== at (0, 0)  num = -0.11245721367458826 anal = -0.11245721367093255\n",
      "enter of the function =  [[ 1.      -1.00002]  [1 1]\n",
      "                          [ 0.       3.     ]]      \n",
      "soft max = [[0.11245725 0.01521913] \n",
      "            [0.04137071 0.83095291]]\n",
      "log =  4.370384296436465\n",
      "=N_SUMPLES= 2\n",
      "loss , grand (prediction) =  2.1851921482182326 [[ 0.11245725 -0.48478087]  \n",
      "                                                 [ 0.04137071  0.33095291]] \n",
      "loss , grand (prediction), grad by W =  2.1851921482182326 [[ 0.11245725 -0.48478087]  [[-0.11245725  0.48478087]  \n",
      "                                                            [ 0.04137071  0.33095291]]  [-0.07108654  0.81573378]  \n",
      "                                                                                        [ 0.15382796 -0.15382796]] \n",
      "enter of the function =  [[ 1.      -0.99998]  [1 1]\n",
      "                          [ 0.       3.     ]]      \n",
      "soft max = [[0.11245718 0.01521973] \n",
      "            [0.04137068 0.83095241]]\n",
      "log =  4.370345513990775\n",
      "=N_SUMPLES= 2\n",
      "loss , grand (prediction) =  2.1851727569953874 [[ 0.11245718 -0.48478027]  \n",
      "                                                 [ 0.04137068  0.33095241]] \n",
      "loss , grand (prediction), grad by W =  2.1851727569953874 [[ 0.11245718 -0.48478027]  [[-0.11245718  0.48478027]  \n",
      "                                                            [ 0.04137068  0.33095241]]  [-0.0710865   0.81573268]  \n",
      "                                                                                        [ 0.15382786 -0.15382786]] \n",
      "==GRAD_CHECK== at (0, 1)  num = 0.4847805711305497 anal = 0.48478057113584405\n",
      "enter of the function =  [[ 9.9998e-01 -1.0000e+00]  [1 1]\n",
      "                          [ 2.0000e-05  3.0000e+00]]      \n",
      "soft max = [[0.11245512 0.01521945] \n",
      "            [0.04137158 0.83095384]]\n",
      "log =  4.370362061806466\n",
      "=N_SUMPLES= 2\n",
      "loss , grand (prediction) =  2.185181030903233 [[ 0.11245512 -0.48478055]  \n",
      "                                                [ 0.04137158  0.33095384]] \n",
      "loss , grand (prediction), grad by W =  2.185181030903233 [[ 0.11245512 -0.48478055]  [[-0.11245512  0.48478055]  \n",
      "                                                           [ 0.04137158  0.33095384]]  [-0.07108354  0.81573439]  \n",
      "                                                                                       [ 0.15382671 -0.15382671]] \n",
      "enter of the function =  [[ 1.00002e+00 -1.00000e+00]  [1 1]\n",
      "                          [-2.00000e-05  3.00000e+00]]      \n",
      "soft max = [[0.1124593  0.01521941] \n",
      "            [0.04136981 0.83095148]]\n",
      "log =  4.370367748727805\n",
      "=N_SUMPLES= 2\n",
      "loss , grand (prediction) =  2.1851838743639025 [[ 0.1124593  -0.48478059]  \n",
      "                                                 [ 0.04136981  0.33095148]] \n",
      "loss , grand (prediction), grad by W =  2.1851838743639025 [[ 0.1124593  -0.48478059]  [[-0.1124593   0.48478059]  \n",
      "                                                            [ 0.04136981  0.33095148]]  [-0.07108949  0.81573207]  \n",
      "                                                                                        [ 0.15382911 -0.15382911]] \n",
      "==GRAD_CHECK== at (1, 0)  num = -0.07108651673970456 anal = -0.0710865167499724\n",
      "enter of the function =  [[ 1.      -1.00002]  [1 1]\n",
      "                          [ 0.       3.00002]]      \n",
      "soft max = [[0.11245538 0.01521888] \n",
      "            [0.04137002 0.83095572]]\n",
      "log =  4.370397534609193\n",
      "=N_SUMPLES= 2\n",
      "loss , grand (prediction) =  2.1851987673045965 [[ 0.11245538 -0.48478112]  \n",
      "                                                 [ 0.04137002  0.33095572]] \n",
      "loss , grand (prediction), grad by W =  2.1851987673045965 [[ 0.11245538 -0.48478112]  [[-0.11245538  0.48478112]  \n",
      "                                                            [ 0.04137002  0.33095572]]  [-0.07108536  0.81573685]  \n",
      "                                                                                        [ 0.1538254  -0.1538254 ]] \n",
      "enter of the function =  [[ 1.      -0.99998]  [1 1]\n",
      "                          [ 0.       2.99998]]      \n",
      "soft max = [[0.11245905 0.01521998] \n",
      "            [0.04137137 0.8309496 ]]\n",
      "log =  4.370332275950659\n",
      "=N_SUMPLES= 2\n",
      "loss , grand (prediction) =  2.1851661379753295 [[ 0.11245905 -0.48478002]  \n",
      "                                                 [ 0.04137137  0.3309496 ]] \n",
      "loss , grand (prediction), grad by W =  2.1851661379753295 [[ 0.11245905 -0.48478002]  [[-0.11245905  0.48478002]  \n",
      "                                                            [ 0.04137137  0.3309496 ]]  [-0.07108768  0.81572962]  \n",
      "                                                                                        [ 0.15383042 -0.15383042]] \n",
      "==GRAD_CHECK== at (1, 1)  num = 0.8157332316738318 anal = 0.8157332316797954\n",
      "enter of the function =  [[ 1.00002e+00 -1.00000e+00]  [1 1]\n",
      "                          [ 2.00000e-05  3.00000e+00]]      \n",
      "soft max = [[0.11245912 0.01521938] \n",
      "            [0.0413714  0.8309501 ]]\n",
      "log =  4.370371058376115\n",
      "=N_SUMPLES= 2\n",
      "loss , grand (prediction) =  2.1851855291880575 [[ 0.11245912 -0.48478062]  \n",
      "                                                 [ 0.0413714   0.3309501 ]] \n",
      "loss , grand (prediction), grad by W =  2.1851855291880575 [[ 0.11245912 -0.48478062]  [[-0.11245912  0.48478062]  \n",
      "                                                            [ 0.0413714   0.3309501 ]]  [-0.07108772  0.81573072]  \n",
      "                                                                                        [ 0.15383051 -0.15383051]] \n",
      "enter of the function =  [[ 9.9998e-01 -1.0000e+00]  [1 1]\n",
      "                          [-2.0000e-05  3.0000e+00]]      \n",
      "soft max = [[0.11245531 0.01521948] \n",
      "            [0.04137    0.83095522]]\n",
      "log =  4.370358752143268\n",
      "=N_SUMPLES= 2\n",
      "loss , grand (prediction) =  2.185179376071634 [[ 0.11245531 -0.48478052]  \n",
      "                                                [ 0.04137     0.33095522]] \n",
      "loss , grand (prediction), grad by W =  2.185179376071634 [[ 0.11245531 -0.48478052]  [[-0.11245531  0.48478052]  \n",
      "                                                           [ 0.04137     0.33095522]]  [-0.07108531  0.81573574]  \n",
      "                                                                                       [ 0.15382531 -0.15382531]] \n",
      "==GRAD_CHECK== at (2, 0)  num = 0.15382791058726752 anal = 0.15382791059189269\n",
      "enter of the function =  [[ 1.      -0.99998]  [1 1]\n",
      "                          [ 0.       3.00002]]      \n",
      "soft max = [[0.11245531 0.01521948] \n",
      "            [0.04137    0.83095522]]\n",
      "log =  4.370358752143268\n",
      "=N_SUMPLES= 2\n",
      "loss , grand (prediction) =  2.185179376071634 [[ 0.11245531 -0.48478052]  \n",
      "                                                [ 0.04137     0.33095522]] \n",
      "loss , grand (prediction), grad by W =  2.185179376071634 [[ 0.11245531 -0.48478052]  [[-0.11245531  0.48478052]  \n",
      "                                                           [ 0.04137     0.33095522]]  [-0.07108531  0.81573574]  \n",
      "                                                                                       [ 0.15382531 -0.15382531]] \n",
      "enter of the function =  [[ 1.      -1.00002]  [1 1]\n",
      "                          [ 0.       2.99998]]      \n",
      "soft max = [[0.11245912 0.01521938] \n",
      "            [0.0413714  0.8309501 ]]\n",
      "log =  4.370371058376115\n",
      "=N_SUMPLES= 2\n",
      "loss , grand (prediction) =  2.1851855291880575 [[ 0.11245912 -0.48478062]  \n",
      "                                                 [ 0.0413714   0.3309501 ]] \n",
      "loss , grand (prediction), grad by W =  2.1851855291880575 [[ 0.11245912 -0.48478062]  [[-0.11245912  0.48478062]  \n",
      "                                                            [ 0.0413714   0.3309501 ]]  [-0.07108772  0.81573072]  \n",
      "                                                                                        [ 0.15383051 -0.15383051]] \n",
      "==GRAD_CHECK== at (2, 1)  num = -0.15382791058726752 anal = -0.1538279105918927\n",
      "Gradient check passed!\n"
     ]
    },
    {
     "data": {
      "text/plain": [
       "True"
      ]
     },
     "execution_count": 12,
     "metadata": {},
     "output_type": "execute_result"
    }
   ],
   "source": [
    "# TODO Implement linear_softmax function that uses softmax with cross-entropy for linear classifier\n",
    "batch_size = 2\n",
    "num_classes = 2\n",
    "num_features = 3\n",
    "np.random.seed(42)\n",
    "W = np.random.randint(-1, 3, size=(num_features, num_classes)).astype(np.float)\n",
    "X = np.random.randint(-1, 3, size=(batch_size, num_features)).astype(np.float)\n",
    "target_index = np.ones(batch_size, dtype=np.int)\n",
    "\n",
    "\n",
    "loss, dW = linear_classifer.linear_softmax(X, W, target_index)\n",
    "pp(dW)\n",
    "check_gradient(lambda w: linear_classifer.linear_softmax(X, w, target_index), W)"
   ]
  },
  {
   "cell_type": "markdown",
   "metadata": {},
   "source": [
    "### И теперь регуляризация\n",
    "\n",
    "Мы будем использовать L2 regularization для весов как часть общей функции ошибки.\n",
    "\n",
    "Напомним, L2 regularization определяется как\n",
    "\n",
    "l2_reg_loss = regularization_strength * sum<sub>ij</sub> W[i, j]<sup>2</sup>\n",
    "\n",
    "Реализуйте функцию для его вычисления и вычисления соотвествующих градиентов."
   ]
  },
  {
   "cell_type": "code",
   "execution_count": 13,
   "metadata": {},
   "outputs": [
    {
     "name": "stdout",
     "output_type": "stream",
     "text": [
      "enter of L2  (3, 2) 0.01\n",
      "L2 loss, grad =  0.06 [[ 0.01  0.02] \n",
      "                       [-0.01  0.01] \n",
      "                       [ 0.01  0.02]]\n",
      "enter of L2  (3, 2) 0.01\n",
      "L2 loss, grad =  0.06 [[ 0.01  0.02] \n",
      "                       [-0.01  0.01] \n",
      "                       [ 0.01  0.02]]\n",
      "enter of L2  (3, 2) 0.01\n",
      "L2 loss, grad =  0.060000200002 [[ 0.0100002  0.02     ] \n",
      "                                 [-0.01       0.01     ] \n",
      "                                 [ 0.01       0.02     ]]\n",
      "enter of L2  (3, 2) 0.01\n",
      "L2 loss, grad =  0.059999800002 [[ 0.0099998  0.02     ] \n",
      "                                 [-0.01       0.01     ] \n",
      "                                 [ 0.01       0.02     ]]\n",
      "==GRAD_CHECK== at (0, 0)  num = 0.009999999999940612 anal = 0.01\n",
      "enter of L2  (3, 2) 0.01\n",
      "L2 loss, grad =  0.06000040000200001 [[ 0.01       0.0200002] \n",
      "                                      [-0.01       0.01     ] \n",
      "                                      [ 0.01       0.02     ]]\n",
      "enter of L2  (3, 2) 0.01\n",
      "L2 loss, grad =  0.059999600002 [[ 0.01       0.0199998] \n",
      "                                 [-0.01       0.01     ] \n",
      "                                 [ 0.01       0.02     ]]\n",
      "==GRAD_CHECK== at (0, 1)  num = 0.02000000000022817 anal = 0.02\n",
      "enter of L2  (3, 2) 0.01\n",
      "L2 loss, grad =  0.059999800002 [[ 0.01       0.02     ] \n",
      "                                 [-0.0099998  0.01     ] \n",
      "                                 [ 0.01       0.02     ]]\n",
      "enter of L2  (3, 2) 0.01\n",
      "L2 loss, grad =  0.060000200002 [[ 0.01       0.02     ] \n",
      "                                 [-0.0100002  0.01     ] \n",
      "                                 [ 0.01       0.02     ]]\n",
      "==GRAD_CHECK== at (1, 0)  num = -0.009999999999940612 anal = -0.01\n",
      "enter of L2  (3, 2) 0.01\n",
      "L2 loss, grad =  0.060000200002 [[ 0.01       0.02     ] \n",
      "                                 [-0.01       0.0100002] \n",
      "                                 [ 0.01       0.02     ]]\n",
      "enter of L2  (3, 2) 0.01\n",
      "L2 loss, grad =  0.059999800002 [[ 0.01       0.02     ] \n",
      "                                 [-0.01       0.0099998] \n",
      "                                 [ 0.01       0.02     ]]\n",
      "==GRAD_CHECK== at (1, 1)  num = 0.009999999999940612 anal = 0.01\n",
      "enter of L2  (3, 2) 0.01\n",
      "L2 loss, grad =  0.060000200002 [[ 0.01       0.02     ] \n",
      "                                 [-0.01       0.01     ] \n",
      "                                 [ 0.0100002  0.02     ]]\n",
      "enter of L2  (3, 2) 0.01\n",
      "L2 loss, grad =  0.059999800002 [[ 0.01       0.02     ] \n",
      "                                 [-0.01       0.01     ] \n",
      "                                 [ 0.0099998  0.02     ]]\n",
      "==GRAD_CHECK== at (2, 0)  num = 0.009999999999940612 anal = 0.01\n",
      "enter of L2  (3, 2) 0.01\n",
      "L2 loss, grad =  0.06000040000200001 [[ 0.01       0.02     ] \n",
      "                                      [-0.01       0.01     ] \n",
      "                                      [ 0.01       0.0200002]]\n",
      "enter of L2  (3, 2) 0.01\n",
      "L2 loss, grad =  0.059999600002 [[ 0.01       0.02     ] \n",
      "                                 [-0.01       0.01     ] \n",
      "                                 [ 0.01       0.0199998]]\n",
      "==GRAD_CHECK== at (2, 1)  num = 0.02000000000022817 anal = 0.02\n",
      "Gradient check passed!\n"
     ]
    },
    {
     "data": {
      "text/plain": [
       "True"
      ]
     },
     "execution_count": 13,
     "metadata": {},
     "output_type": "execute_result"
    }
   ],
   "source": [
    "# TODO Implement l2_regularization function that implements loss for L2 regularization\n",
    "linear_classifer.l2_regularization(W, 0.01)\n",
    "check_gradient(lambda w: linear_classifer.l2_regularization(w, 0.01), W)"
   ]
  },
  {
   "cell_type": "markdown",
   "metadata": {},
   "source": [
    "# Тренировка!"
   ]
  },
  {
   "cell_type": "markdown",
   "metadata": {},
   "source": [
    "Градиенты в порядке, реализуем процесс тренировки!"
   ]
  },
  {
   "cell_type": "code",
   "execution_count": 38,
   "metadata": {
    "scrolled": false
   },
   "outputs": [
    {
     "name": "stdout",
     "output_type": "stream",
     "text": [
      "loss , grand (prediction) =  11.407754245650851 [[ 1.10183016e-05 -9.99798898e-05  1.10120799e-05 ...  1.11431312e-05 \n",
      "                                                   1.11880378e-05  1.11244247e-05]                                    \n",
      "                                                 [ 1.11241086e-05  1.10885994e-05  1.11341011e-05 ...  1.10924594e-05 \n",
      "                                                   1.10397386e-05  1.10504022e-05]                                    \n",
      "                                                 [ 1.09393556e-05  1.11736972e-05  1.12084050e-05 ...  1.09764153e-05 \n",
      "                                                   1.12364555e-05  1.11472021e-05]                                    \n",
      "                                                 ...                                                                  \n",
      "                                                 [ 1.09742226e-05  1.12698107e-05  1.11560314e-05 ...  1.10969608e-05 \n",
      "                                                   1.11516618e-05  1.10667981e-05]                                    \n",
      "                                                 [ 1.10232266e-05  1.11692841e-05  1.11340920e-05 ... -9.99259556e-05 \n",
      "                                                   1.11430426e-05  1.10165632e-05]                                    \n",
      "                                                 [ 1.11972682e-05  1.09906547e-05  1.10449777e-05 ...  1.11817383e-05 \n",
      "                                                   1.11813641e-05  1.10382759e-05]]                                   \n",
      "enter of L2  (3073, 10) 10.0\n",
      "Epoch 0, loss: 11.438237\n",
      "== W == 0.08929612656268157\n",
      "loss , grand (prediction) =  11.407713582112898 [[ 1.13412798e-05 -1.00210207e-04  1.10746104e-05 ...  1.12246439e-05 \n",
      "                                                   1.13606574e-05  1.12914508e-05]                                    \n",
      "                                                 [ 1.11877597e-05  1.10569550e-05  1.11463857e-05 ...  1.11755346e-05 \n",
      "                                                   1.10995380e-05  1.12120750e-05]                                    \n",
      "                                                 [ 1.12072212e-05  1.09833744e-05  1.09596289e-05 ... -1.00096986e-04 \n",
      "                                                   1.10877263e-05  1.11129093e-05]                                    \n",
      "                                                 ...                                                                  \n",
      "                                                 [ 1.11422582e-05  1.12257540e-05  1.11697849e-05 ... -9.99763098e-05 \n",
      "                                                   1.09598367e-05  1.10185389e-05]                                    \n",
      "                                                 [ 1.10730554e-05  1.12609338e-05  1.11919970e-05 ...  1.11373241e-05 \n",
      "                                                   1.10563839e-05  1.09854716e-05]                                    \n",
      "                                                 [ 1.10904939e-05  1.11187183e-05  1.09086146e-05 ...  1.10523590e-05 \n",
      "                                                   1.11761415e-05  1.11750554e-05]]                                   \n",
      "enter of L2  (3073, 10) 10.0\n",
      "Epoch 1, loss: 11.437589\n",
      "== W == 0.0879819368435957\n",
      "loss , grand (prediction) =  11.407673471270376 [[ 1.11293795e-05  1.10237393e-05  1.10355364e-05 ...  1.10558311e-05 \n",
      "                                                   1.12455718e-05  1.13416399e-05]                                    \n",
      "                                                 [ 1.10429354e-05  1.12144242e-05 -1.00019777e-04 ...  1.10816399e-05 \n",
      "                                                   1.09013002e-05  1.10114483e-05]                                    \n",
      "                                                 [ 1.10225090e-05  1.12668055e-05  1.12051386e-05 ...  1.11898526e-05 \n",
      "                                                   1.10767753e-05  1.08617367e-05]                                    \n",
      "                                                 ...                                                                  \n",
      "                                                 [ 1.11274001e-05  1.11356973e-05  1.10957970e-05 ...  1.11667128e-05 \n",
      "                                                   1.10659980e-05  1.11633613e-05]                                    \n",
      "                                                 [ 1.11830873e-05  1.10611599e-05  1.11307573e-05 ...  1.10010415e-05 \n",
      "                                                  -1.00093465e-04  1.10313045e-05]                                    \n",
      "                                                 [-1.00033139e-04  1.09149298e-05  1.09525655e-05 ...  1.11793989e-05 \n",
      "                                                   1.13509469e-05  1.13521838e-05]]                                   \n",
      "enter of L2  (3073, 10) 10.0\n",
      "Epoch 2, loss: 11.436954\n",
      "== W == 0.08668823375556936\n",
      "loss , grand (prediction) =  11.40763390344159 [[ 1.13043942e-05 -9.98567012e-05  1.13058246e-05 ...  1.11600097e-05 \n",
      "                                                  1.11488578e-05  1.10955574e-05]                                    \n",
      "                                                [ 1.11076118e-05  1.12351345e-05  1.11825478e-05 ...  1.11151417e-05 \n",
      "                                                  1.09005163e-05  1.09258795e-05]                                    \n",
      "                                                [ 1.10891744e-05 -9.99045212e-05  1.12345010e-05 ...  1.11250182e-05 \n",
      "                                                  1.10084355e-05  1.09865174e-05]                                    \n",
      "                                                ...                                                                  \n",
      "                                                [ 1.11342978e-05  1.11193614e-05  1.11597228e-05 ...  1.10417510e-05 \n",
      "                                                  1.10393228e-05  1.10960628e-05]                                    \n",
      "                                                [ 1.09955017e-05  1.10620847e-05 -1.00196310e-04 ...  1.11771833e-05 \n",
      "                                                  1.09217041e-05  1.11212133e-05]                                    \n",
      "                                                [ 1.10900020e-05  1.10903688e-05  1.11350944e-05 ...  1.11689764e-05 \n",
      "                                                  1.11215374e-05  1.10466148e-05]]                                   \n",
      "enter of L2  (3073, 10) 10.0\n",
      "Epoch 3, loss: 11.436332\n",
      "== W == 0.08541466594241873\n",
      "loss , grand (prediction) =  11.407594869169223 [[ 1.10445120e-05 -9.99097608e-05  1.11806397e-05 ...  1.11105996e-05 \n",
      "                                                   1.09992895e-05  1.07445387e-05]                                    \n",
      "                                                 [ 1.14255941e-05 -1.00196322e-04  1.11428800e-05 ...  1.10949086e-05 \n",
      "                                                   1.13021512e-05  1.15159040e-05]                                    \n",
      "                                                 [ 1.13737358e-05  1.10573151e-05  1.11457880e-05 ...  1.10477605e-05 \n",
      "                                                   1.14432758e-05  1.13276633e-05]                                    \n",
      "                                                 ...                                                                  \n",
      "                                                 [ 1.09112274e-05  1.12799153e-05  1.11520726e-05 ...  1.11164506e-05 \n",
      "                                                   1.10126918e-05  1.09106829e-05]                                    \n",
      "                                                 [ 1.10730806e-05  1.11020801e-05 -1.00077680e-04 ...  1.10618940e-05 \n",
      "                                                   1.12420918e-05  1.12943541e-05]                                    \n",
      "                                                 [ 1.11793469e-05  1.11189915e-05  1.11017086e-05 ...  1.11203796e-05 \n",
      "                                                   1.09903811e-05  1.12036760e-05]]                                   \n",
      "enter of L2  (3073, 10) 10.0\n",
      "Epoch 4, loss: 11.435721\n",
      "== W == 0.08416088888093415\n",
      "loss , grand (prediction) =  11.407556359213995 [[ 1.11468960e-05  1.10991715e-05 -1.00065174e-04 ...  1.10843933e-05 \n",
      "                                                   1.10727642e-05  1.11624838e-05]                                    \n",
      "                                                 [-9.99872626e-05  1.10504069e-05  1.10549895e-05 ...  1.11468467e-05 \n",
      "                                                   1.11785115e-05  1.12202132e-05]                                    \n",
      "                                                 [ 1.09882089e-05  1.11903411e-05 -1.00130914e-04 ...  1.12071129e-05 \n",
      "                                                   1.10873200e-05  1.11348974e-05]                                    \n",
      "                                                 ...                                                                  \n",
      "                                                 [ 1.10375119e-05  1.11357756e-05  1.10595870e-05 ...  1.10619517e-05 \n",
      "                                                   1.11186592e-05  1.13900225e-05]                                    \n",
      "                                                 [ 1.11275066e-05  1.09641564e-05  1.12271558e-05 ...  1.09486943e-05 \n",
      "                                                   1.12604928e-05  1.14250095e-05]                                    \n",
      "                                                 [ 1.11569599e-05  1.11343398e-05  1.10674815e-05 ...  1.11525261e-05 \n",
      "                                                   1.11488207e-05  1.11017978e-05]]                                   \n"
     ]
    },
    {
     "name": "stdout",
     "output_type": "stream",
     "text": [
      "enter of L2  (3073, 10) 10.0\n",
      "Epoch 5, loss: 11.435123\n",
      "== W == 0.08292656472656296\n",
      "loss , grand (prediction) =  11.4075183645485 [[ 1.11328122e-05  1.12141167e-05  1.10700323e-05 ...  1.11675649e-05 \n",
      "                                                 1.11543414e-05  1.11259621e-05]                                    \n",
      "                                               [ 1.11947479e-05  1.10236702e-05  1.10185994e-05 ...  1.10686638e-05 \n",
      "                                                 1.11186672e-05  1.11707951e-05]                                    \n",
      "                                               [ 1.09868224e-05  1.11841283e-05  1.11226431e-05 ...  1.10929740e-05 \n",
      "                                                 1.10883757e-05  1.10644722e-05]                                    \n",
      "                                               ...                                                                  \n",
      "                                               [ 1.10433509e-05  1.11045627e-05  1.09429640e-05 ... -1.00045822e-04 \n",
      "                                                 1.12666345e-05  1.12375232e-05]                                    \n",
      "                                               [ 1.10858107e-05  1.11961418e-05  1.11967741e-05 ...  1.10772097e-05 \n",
      "                                                 1.09556075e-05  1.09701669e-05]                                    \n",
      "                                               [ 1.09260325e-05  1.13778891e-05  1.11104433e-05 ...  1.10189428e-05 \n",
      "                                                 1.10437568e-05  1.09574308e-05]]                                   \n",
      "enter of L2  (3073, 10) 10.0\n",
      "Epoch 6, loss: 11.434537\n",
      "== W == 0.08171136216312969\n",
      "loss , grand (prediction) =  11.407480876351261 [[ 1.10409240e-05  1.10669286e-05 -9.99872432e-05 ...  1.11143983e-05 \n",
      "                                                   1.10508928e-05  1.11801248e-05]                                    \n",
      "                                                 [ 1.10576006e-05  1.11126474e-05  1.09098024e-05 ...  1.11477059e-05 \n",
      "                                                   1.11201387e-05  1.11546375e-05]                                    \n",
      "                                                 [ 1.09964612e-05  1.12815120e-05 -9.98667262e-05 ...  1.11794388e-05 \n",
      "                                                   1.09562142e-05  1.08456768e-05]                                    \n",
      "                                                 ...                                                                  \n",
      "                                                 [ 1.11402756e-05  1.11892216e-05  1.11567175e-05 ...  1.11241610e-05 \n",
      "                                                   1.10174603e-05  1.09942404e-05]                                    \n",
      "                                                 [ 1.10543241e-05  1.12019674e-05 -1.00002812e-04 ...  1.11228515e-05 \n",
      "                                                   1.10813246e-05  1.10943379e-05]                                    \n",
      "                                                 [ 1.10516957e-05  1.10538877e-05  1.10498260e-05 ...  1.12083889e-05 \n",
      "                                                   1.13124010e-05  1.14522431e-05]]                                   \n",
      "enter of L2  (3073, 10) 10.0\n",
      "Epoch 7, loss: 11.433961\n",
      "== W == 0.08051495625647649\n",
      "loss , grand (prediction) =  11.407443886000964 [[ 1.11506599e-05 -1.00084996e-04  1.10170782e-05 ...  1.11046689e-05 \n",
      "                                                   1.11683644e-05  1.12503890e-05]                                    \n",
      "                                                 [ 1.11581350e-05  1.10937901e-05  1.10875138e-05 ...  1.10760786e-05 \n",
      "                                                   1.11058976e-05  1.11458429e-05]                                    \n",
      "                                                 [ 1.11182332e-05  1.10924895e-05  1.10639846e-05 ...  1.11138355e-05 \n",
      "                                                   1.10750478e-05  1.11055344e-05]                                    \n",
      "                                                 ...                                                                  \n",
      "                                                 [ 1.10212993e-05  1.11269378e-05  1.11001905e-05 ... -1.00002840e-04 \n",
      "                                                   1.09989712e-05  1.09585582e-05]                                    \n",
      "                                                 [ 1.10508462e-05 -9.99029861e-05  1.11724828e-05 ...  1.11537128e-05 \n",
      "                                                   1.09510355e-05  1.09619715e-05]                                    \n",
      "                                                 [-1.00214452e-04  1.10361002e-05  1.10478580e-05 ...  1.11772444e-05 \n",
      "                                                   1.12179118e-05  1.12119880e-05]]                                   \n",
      "enter of L2  (3073, 10) 10.0\n",
      "Epoch 8, loss: 11.433398\n",
      "== W == 0.0793370283119055\n",
      "loss , grand (prediction) =  11.407407385070854 [[ 1.10702666e-05  1.11971568e-05  1.11636696e-05 ...  1.10999624e-05 \n",
      "                                                   1.11058344e-05  1.11009816e-05]                                    \n",
      "                                                 [ 1.10479210e-05  1.11624742e-05  1.12331792e-05 ...  1.11586093e-05 \n",
      "                                                   1.09722493e-05  1.09375215e-05]                                    \n",
      "                                                 [ 1.10506132e-05  1.12461913e-05  1.11755781e-05 ...  1.12148988e-05 \n",
      "                                                   1.10233430e-05  1.09870967e-05]                                    \n",
      "                                                 ...                                                                  \n",
      "                                                 [ 1.11242043e-05  1.11477851e-05 -1.00006813e-04 ...  1.11261791e-05 \n",
      "                                                   1.10840802e-05  1.10498091e-05]                                    \n",
      "                                                 [ 1.08572695e-05  1.10981383e-05 -1.00009329e-04 ...  1.11822890e-05 \n",
      "                                                   1.11962131e-05  1.09925162e-05]                                    \n",
      "                                                 [ 1.10682461e-05  1.12153333e-05  1.11915581e-05 ...  1.11230957e-05 \n",
      "                                                   1.10517395e-05  1.10177966e-05]]                                   \n",
      "enter of L2  (3073, 10) 10.0\n",
      "Epoch 9, loss: 11.432845\n",
      "== W == 0.07817726573531526\n"
     ]
    },
    {
     "data": {
      "text/plain": [
       "'THERE WERE 10 EPOCHS   !!!!!\\n'"
      ]
     },
     "execution_count": 38,
     "metadata": {},
     "output_type": "execute_result"
    }
   ],
   "source": [
    "# TODO: Implement LinearSoftmaxClassifier.fit function \n",
    "classifier = linear_classifer.LinearSoftmaxClassifier()\n",
    "loss_history = classifier.fit(train_X, train_y, epochs=10, learning_rate=1e-3, batch_size=300, reg=1e1)\n",
    "'''THERE WERE 10 EPOCHS   !!!!!\n",
    "'''"
   ]
  },
  {
   "cell_type": "code",
   "execution_count": 39,
   "metadata": {},
   "outputs": [
    {
     "name": "stdout",
     "output_type": "stream",
     "text": [
      "[11.438236907928653, 11.43758921489213, 11.436954237927331, 11.43633172400609, 11.435721425194641, 11.435123098549628, 11.434536506016233, 11.433961414328484, 11.43339759491159, 11.432844823786322]\n"
     ]
    },
    {
     "data": {
      "text/plain": [
       "[<matplotlib.lines.Line2D at 0x21481668>]"
      ]
     },
     "execution_count": 39,
     "metadata": {},
     "output_type": "execute_result"
    },
    {
     "data": {
      "image/png": "[encoded data removed]",
      "text/plain": [
       "<Figure size 432x288 with 1 Axes>"
      ]
     },
     "metadata": {
      "needs_background": "light"
     },
     "output_type": "display_data"
    }
   ],
   "source": [
    "# let's look at the loss history!\n",
    "print(loss_history)\n",
    "plt.plot(loss_history)"
   ]
  },
  {
   "cell_type": "code",
   "execution_count": null,
   "metadata": {},
   "outputs": [],
   "source": []
  },
  {
   "cell_type": "code",
   "execution_count": null,
   "metadata": {},
   "outputs": [],
   "source": [
    "num_epochs = 200\n",
    "batch_size = 300\n",
    "\n",
    "learning_rates = [ 1e-4, 1e-5, 1e-6, 1e-7, 1e-8, 1e-9,1e-10, 1e-11,1e-12,]\n",
    "reg_strengths = [1e-7, 1e-8, 1e-9,1e-10, 1e-11,]\n",
    "\n",
    "best_classifier = None\n",
    "best_val_accuracy = None\n",
    "\n",
    "data:list = list()\n",
    "\n",
    "# TODO use validation set to find the best hyperparameters\n",
    "# hint: for best results, you might need to try more values for learning rate and regularization strength \n",
    "# than provided initially\n",
    "for l in learning_rates:\n",
    "    for r in reg_strengths:\n",
    "        classifier = linear_classifer.LinearSoftmaxClassifier()\n",
    "        classifier.fit(train_X, train_y, epochs=100, learning_rate=l, batch_size=300, reg=r)\n",
    "        pred = classifier.predict(val_X)\n",
    "        accuracy = multiclass_accuracy(pred, val_y)\n",
    "        data.append({'learn rate':l,'regul':r,'accuracy':accuracy})\n",
    "        \n",
    "\n",
    "\n",
    "frame = pd.DataFrame(data)\n",
    "print(frame)\n",
    "frame.plot()\n",
    "axes = plt.gca()\n",
    "axes.set_ylim(0,0.3)\n",
    "\n",
    "# print('best validation accuracy achieved: %f' % best_val_accuracy)"
   ]
  },
  {
   "cell_type": "markdown",
   "metadata": {},
   "source": [
    "### Как и раньше, используем кросс-валидацию для подбора гиперпараметтов.\n",
    "\n",
    "В этот раз, чтобы тренировка занимала разумное время, мы будем использовать только одно разделение на тренировочные (training) и проверочные (validation) данные.\n",
    "\n",
    "Теперь нам нужно подобрать не один, а два гиперпараметра! Не ограничивайте себя изначальными значениями в коде.  \n",
    "Добейтесь точности более чем **20%** на проверочных данных (validation data)."
   ]
  },
  {
   "cell_type": "code",
   "execution_count": 34,
   "metadata": {},
   "outputs": [
    {
     "name": "stdout",
     "output_type": "stream",
     "text": [
      "      learn rate         regul  accuracy\n",
      "0   1.000000e-04  1.000000e-07     0.089\n",
      "1   1.000000e-04  1.000000e-08     0.112\n",
      "2   1.000000e-04  1.000000e-09     0.117\n",
      "3   1.000000e-04  1.000000e-10     0.081\n",
      "4   1.000000e-04  1.000000e-11     0.131\n",
      "5   1.000000e-05  1.000000e-07     0.089\n",
      "6   1.000000e-05  1.000000e-08     0.123\n",
      "7   1.000000e-05  1.000000e-09     0.078\n",
      "8   1.000000e-05  1.000000e-10     0.116\n",
      "9   1.000000e-05  1.000000e-11     0.102\n",
      "10  1.000000e-06  1.000000e-07     0.083\n",
      "11  1.000000e-06  1.000000e-08     0.088\n",
      "12  1.000000e-06  1.000000e-09     0.108\n",
      "13  1.000000e-06  1.000000e-10     0.107\n",
      "14  1.000000e-06  1.000000e-11     0.091\n",
      "15  1.000000e-07  1.000000e-07     0.112\n",
      "16  1.000000e-07  1.000000e-08     0.092\n",
      "17  1.000000e-07  1.000000e-09     0.113\n",
      "18  1.000000e-07  1.000000e-10     0.131\n",
      "19  1.000000e-07  1.000000e-11     0.094\n",
      "20  1.000000e-08  1.000000e-07     0.096\n",
      "21  1.000000e-08  1.000000e-08     0.110\n",
      "22  1.000000e-08  1.000000e-09     0.101\n",
      "23  1.000000e-08  1.000000e-10     0.133\n",
      "24  1.000000e-08  1.000000e-11     0.123\n",
      "25  1.000000e-09  1.000000e-07     0.084\n",
      "26  1.000000e-09  1.000000e-08     0.090\n",
      "27  1.000000e-09  1.000000e-09     0.131\n",
      "28  1.000000e-09  1.000000e-10     0.096\n",
      "29  1.000000e-09  1.000000e-11     0.091\n",
      "30  1.000000e-10  1.000000e-07     0.093\n",
      "31  1.000000e-10  1.000000e-08     0.094\n",
      "32  1.000000e-10  1.000000e-09     0.087\n",
      "33  1.000000e-10  1.000000e-10     0.075\n",
      "34  1.000000e-10  1.000000e-11     0.110\n",
      "35  1.000000e-11  1.000000e-07     0.087\n",
      "36  1.000000e-11  1.000000e-08     0.085\n",
      "37  1.000000e-11  1.000000e-09     0.111\n",
      "38  1.000000e-11  1.000000e-10     0.145\n",
      "39  1.000000e-11  1.000000e-11     0.093\n",
      "40  1.000000e-12  1.000000e-07     0.075\n",
      "41  1.000000e-12  1.000000e-08     0.089\n",
      "42  1.000000e-12  1.000000e-09     0.098\n",
      "43  1.000000e-12  1.000000e-10     0.090\n",
      "44  1.000000e-12  1.000000e-11     0.132\n"
     ]
    },
    {
     "data": {
      "text/plain": [
       "Text(0.5, 0, 'accuracy')"
      ]
     },
     "execution_count": 34,
     "metadata": {},
     "output_type": "execute_result"
    },
    {
     "data": {
      "image/png": "[encoded data removed]",
      "text/plain": [
       "<Figure size 432x288 with 1 Axes>"
      ]
     },
     "metadata": {
      "needs_background": "light"
     },
     "output_type": "display_data"
    }
   ],
   "source": [
    "print(frame)\n",
    "ax=plt.subplot(projection = '3d')\n",
    "ax.scatter(frame['learn rate'],frame['regul'],frame['accuracy'],c = frame['accuracy'],cmap = 'viridis')\n",
    "ax.set_xlabel('learn rate')\n",
    "ax.set_ylabel('regul')\n",
    "ax.set_zlabel('accuracy')"
   ]
  },
  {
   "cell_type": "code",
   "execution_count": 17,
   "metadata": {},
   "outputs": [
    {
     "name": "stdout",
     "output_type": "stream",
     "text": [
      "     learn rate    regul  accuracy\n",
      "0  1.000000e-01  0.00001     0.088\n",
      "1  1.000000e-02  0.00001     0.090\n",
      "2  1.000000e-03  0.00001     0.083\n",
      "3  1.000000e-04  0.00001     0.084\n",
      "4  1.000000e-05  0.00001     0.084\n",
      "5  1.000000e-06  0.00001     0.094\n",
      "6  1.000000e-07  0.00001     0.100\n",
      "7  1.000000e-08  0.00001     0.076\n",
      "8  1.000000e-09  0.00001     0.136\n"
     ]
    },
    {
     "ename": "AttributeError",
     "evalue": "module 'matplotlib.pyplot' has no attribute 'set_ylim'",
     "output_type": "error",
     "traceback": [
      "\u001b[1;31m---------------------------------------------------------------------------\u001b[0m",
      "\u001b[1;31mAttributeError\u001b[0m                            Traceback (most recent call last)",
      "\u001b[1;32m<ipython-input-17-e4d38c4e96c6>\u001b[0m in \u001b[0;36m<module>\u001b[1;34m\u001b[0m\n\u001b[0;32m      1\u001b[0m \u001b[0mprint\u001b[0m\u001b[1;33m(\u001b[0m\u001b[0mframe\u001b[0m\u001b[1;33m)\u001b[0m\u001b[1;33m\u001b[0m\u001b[1;33m\u001b[0m\u001b[0m\n\u001b[0;32m      2\u001b[0m \u001b[0mframe\u001b[0m\u001b[1;33m.\u001b[0m\u001b[0mplot\u001b[0m\u001b[1;33m(\u001b[0m\u001b[1;33m)\u001b[0m\u001b[1;33m\u001b[0m\u001b[1;33m\u001b[0m\u001b[0m\n\u001b[1;32m----> 3\u001b[1;33m \u001b[0mplt\u001b[0m\u001b[1;33m.\u001b[0m\u001b[0mset_ylim\u001b[0m\u001b[1;33m(\u001b[0m\u001b[1;36m0\u001b[0m\u001b[1;33m,\u001b[0m\u001b[1;36m30\u001b[0m\u001b[1;33m)\u001b[0m\u001b[1;33m\u001b[0m\u001b[1;33m\u001b[0m\u001b[0m\n\u001b[0m",
      "\u001b[1;31mAttributeError\u001b[0m: module 'matplotlib.pyplot' has no attribute 'set_ylim'"
     ]
    },
    {
     "data": {
      "image/png": "[encoded data removed]",
      "text/plain": [
       "<Figure size 432x288 with 1 Axes>"
      ]
     },
     "metadata": {
      "needs_background": "light"
     },
     "output_type": "display_data"
    }
   ],
   "source": [
    "print(frame)\n",
    "frame.plot()\n",
    "plt.set_ylim(0,30)"
   ]
  },
  {
   "cell_type": "code",
   "execution_count": 19,
   "metadata": {},
   "outputs": [
    {
     "name": "stdout",
     "output_type": "stream",
     "text": [
      "     learn rate    regul  accuracy\n",
      "0  1.000000e-01  0.00001     0.088\n",
      "1  1.000000e-02  0.00001     0.090\n",
      "2  1.000000e-03  0.00001     0.083\n",
      "3  1.000000e-04  0.00001     0.084\n",
      "4  1.000000e-05  0.00001     0.084\n",
      "5  1.000000e-06  0.00001     0.094\n",
      "6  1.000000e-07  0.00001     0.100\n",
      "7  1.000000e-08  0.00001     0.076\n",
      "8  1.000000e-09  0.00001     0.136\n"
     ]
    },
    {
     "data": {
      "text/plain": [
       "(0, 0.3)"
      ]
     },
     "execution_count": 19,
     "metadata": {},
     "output_type": "execute_result"
    },
    {
     "data": {
      "image/png": "[encoded data removed]",
      "text/plain": [
       "<Figure size 432x288 with 1 Axes>"
      ]
     },
     "metadata": {
      "needs_background": "light"
     },
     "output_type": "display_data"
    }
   ],
   "source": [
    "print(frame)\n",
    "frame.plot()\n",
    "axes = plt.gca()\n",
    "axes.set_ylim(0,0.3)"
   ]
  },
  {
   "cell_type": "code",
   "execution_count": 23,
   "metadata": {},
   "outputs": [
    {
     "name": "stdout",
     "output_type": "stream",
     "text": [
      "0.096\n"
     ]
    }
   ],
   "source": [
    "test_class = linear_classifer.LinearSoftmaxClassifier()\n",
    "test_pred = test_class.pred_rand(val_X)\n",
    "accuracy = multiclass_accuracy(test_pred, val_y)\n",
    "print(accuracy)"
   ]
  },
  {
   "cell_type": "markdown",
   "metadata": {},
   "source": [
    "# Какой же точности мы добились на тестовых данных?"
   ]
  },
  {
   "cell_type": "code",
   "execution_count": 21,
   "metadata": {},
   "outputs": [
    {
     "ename": "AttributeError",
     "evalue": "'NoneType' object has no attribute 'predict'",
     "output_type": "error",
     "traceback": [
      "\u001b[1;31m---------------------------------------------------------------------------\u001b[0m",
      "\u001b[1;31mAttributeError\u001b[0m                            Traceback (most recent call last)",
      "\u001b[1;32m<ipython-input-21-51d73b5f6183>\u001b[0m in \u001b[0;36m<module>\u001b[1;34m\u001b[0m\n\u001b[1;32m----> 1\u001b[1;33m \u001b[0mtest_pred\u001b[0m \u001b[1;33m=\u001b[0m \u001b[0mbest_classifier\u001b[0m\u001b[1;33m.\u001b[0m\u001b[0mpredict\u001b[0m\u001b[1;33m(\u001b[0m\u001b[0mtest_X\u001b[0m\u001b[1;33m)\u001b[0m\u001b[1;33m\u001b[0m\u001b[1;33m\u001b[0m\u001b[0m\n\u001b[0m\u001b[0;32m      2\u001b[0m \u001b[0mtest_accuracy\u001b[0m \u001b[1;33m=\u001b[0m \u001b[0mmulticlass_accuracy\u001b[0m\u001b[1;33m(\u001b[0m\u001b[0mtest_pred\u001b[0m\u001b[1;33m,\u001b[0m \u001b[0mtest_y\u001b[0m\u001b[1;33m)\u001b[0m\u001b[1;33m\u001b[0m\u001b[1;33m\u001b[0m\u001b[0m\n\u001b[0;32m      3\u001b[0m \u001b[0mprint\u001b[0m\u001b[1;33m(\u001b[0m\u001b[1;34m'Linear softmax classifier test set accuracy: %f'\u001b[0m \u001b[1;33m%\u001b[0m \u001b[1;33m(\u001b[0m\u001b[0mtest_accuracy\u001b[0m\u001b[1;33m,\u001b[0m \u001b[1;33m)\u001b[0m\u001b[1;33m)\u001b[0m\u001b[1;33m\u001b[0m\u001b[1;33m\u001b[0m\u001b[0m\n",
      "\u001b[1;31mAttributeError\u001b[0m: 'NoneType' object has no attribute 'predict'"
     ]
    }
   ],
   "source": [
    "test_pred = best_classifier.predict(test_X)\n",
    "test_accuracy = multiclass_accuracy(test_pred, test_y)\n",
    "print('Linear softmax classifier test set accuracy: %f' % (test_accuracy, ))"
   ]
  },
  {
   "cell_type": "code",
   "execution_count": 18,
   "metadata": {},
   "outputs": [
    {
     "data": {
      "text/plain": [
       "'1.17.0'"
      ]
     },
     "execution_count": 18,
     "metadata": {},
     "output_type": "execute_result"
    }
   ],
   "source": [
    "np.__version__"
   ]
  },
  {
   "cell_type": "code",
   "execution_count": null,
   "metadata": {},
   "outputs": [],
   "source": []
  }
 ],
 "metadata": {
  "kernelspec": {
   "display_name": "Python 3",
   "language": "python",
   "name": "python3"
  }
 },
 "nbformat": 4,
 "nbformat_minor": 2
}
