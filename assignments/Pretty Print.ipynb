{
 "cells": [
  {
   "cell_type": "code",
   "execution_count": 2,
   "metadata": {},
   "outputs": [],
   "source": [
    "import numpy as np"
   ]
  },
  {
   "cell_type": "code",
   "execution_count": 3,
   "metadata": {},
   "outputs": [],
   "source": [
    "a = np.zeros((2,3),dtype =np.float32)"
   ]
  },
  {
   "cell_type": "code",
   "execution_count": 4,
   "metadata": {},
   "outputs": [
    {
     "name": "stdout",
     "output_type": "stream",
     "text": [
      "[[0. 0. 0.]\n",
      " [0. 0. 0.]]\n"
     ]
    }
   ],
   "source": [
    "print(a)"
   ]
  },
  {
   "cell_type": "code",
   "execution_count": 5,
   "metadata": {},
   "outputs": [
    {
     "data": {
      "text/plain": [
       "numpy.ndarray"
      ]
     },
     "execution_count": 5,
     "metadata": {},
     "output_type": "execute_result"
    }
   ],
   "source": [
    "type(a)"
   ]
  },
  {
   "cell_type": "code",
   "execution_count": 6,
   "metadata": {},
   "outputs": [
    {
     "data": {
      "text/plain": [
       "numpy.ndarray"
      ]
     },
     "execution_count": 6,
     "metadata": {},
     "output_type": "execute_result"
    }
   ],
   "source": [
    "a.__class__"
   ]
  },
  {
   "cell_type": "code",
   "execution_count": 7,
   "metadata": {},
   "outputs": [],
   "source": [
    "a2 = np.zeros((2,3,4),dtype =np.float32)"
   ]
  },
  {
   "cell_type": "code",
   "execution_count": 8,
   "metadata": {},
   "outputs": [
    {
     "name": "stdout",
     "output_type": "stream",
     "text": [
      "[[[0. 0. 0. 0.]\n",
      "  [0. 0. 0. 0.]\n",
      "  [0. 0. 0. 0.]]\n",
      "\n",
      " [[0. 0. 0. 0.]\n",
      "  [0. 0. 0. 0.]\n",
      "  [0. 0. 0. 0.]]]\n"
     ]
    }
   ],
   "source": [
    "print(a2)"
   ]
  },
  {
   "cell_type": "code",
   "execution_count": 9,
   "metadata": {},
   "outputs": [
    {
     "name": "stdout",
     "output_type": "stream",
     "text": [
      "[[[1. 1. 1. 1.]\n",
      "  [1. 1. 1. 1.]\n",
      "  [1. 1. 1. 1.]]\n",
      "\n",
      " [[1. 1. 1. 1.]\n",
      "  [1. 1. 1. 1.]\n",
      "  [1. 1. 1. 1.]]]\n"
     ]
    }
   ],
   "source": [
    "a2+=1\n",
    "print(a2)"
   ]
  },
  {
   "cell_type": "code",
   "execution_count": 10,
   "metadata": {},
   "outputs": [],
   "source": [
    "ones =lambda *shape: np.ones(shape,dtype = np.float32)"
   ]
  },
  {
   "cell_type": "code",
   "execution_count": 11,
   "metadata": {},
   "outputs": [
    {
     "data": {
      "text/plain": [
       "array([[1., 1., 1., 1., 1.],\n",
       "       [1., 1., 1., 1., 1.],\n",
       "       [1., 1., 1., 1., 1.],\n",
       "       [1., 1., 1., 1., 1.]], dtype=float32)"
      ]
     },
     "execution_count": 11,
     "metadata": {},
     "output_type": "execute_result"
    }
   ],
   "source": [
    "ones(4,5)"
   ]
  },
  {
   "cell_type": "code",
   "execution_count": 12,
   "metadata": {},
   "outputs": [
    {
     "name": "stdout",
     "output_type": "stream",
     "text": [
      "[array([[1., 1., 1.],\n",
      "       [1., 1., 1.]], dtype=float32), '+', array([[1., 1., 1.],\n",
      "       [1., 1., 1.]], dtype=float32), '=', array([[2., 2., 2.],\n",
      "       [2., 2., 2.]], dtype=float32)]\n",
      "[[1. 1. 1.]\n",
      " [1. 1. 1.]] + [[1. 1. 1.]\n",
      " [1. 1. 1.]] = [[2. 2. 2.]\n",
      " [2. 2. 2.]]\n"
     ]
    },
    {
     "data": {
      "text/plain": [
       "array([[1., 1., 1.],\n",
       "       [1., 1., 1.]], dtype=float32)"
      ]
     },
     "metadata": {},
     "output_type": "display_data"
    },
    {
     "data": {
      "text/plain": [
       "'+'"
      ]
     },
     "metadata": {},
     "output_type": "display_data"
    },
    {
     "data": {
      "text/plain": [
       "array([[1., 1., 1.],\n",
       "       [1., 1., 1.]], dtype=float32)"
      ]
     },
     "metadata": {},
     "output_type": "display_data"
    },
    {
     "data": {
      "text/plain": [
       "'='"
      ]
     },
     "metadata": {},
     "output_type": "display_data"
    },
    {
     "data": {
      "text/plain": [
       "array([[2., 2., 2.],\n",
       "       [2., 2., 2.]], dtype=float32)"
      ]
     },
     "metadata": {},
     "output_type": "display_data"
    }
   ],
   "source": [
    "my_input = [ones(2,3),'+',ones(2,3),'=',ones(2,3)*2]\n",
    "print(my_input)\n",
    "print(*my_input)\n",
    "display(*my_input)"
   ]
  },
  {
   "cell_type": "code",
   "execution_count": 13,
   "metadata": {},
   "outputs": [
    {
     "data": {
      "text/plain": [
       "[['[[1. 1. 1.]', ' [1. 1. 1.]]'],\n",
       " ['+'],\n",
       " ['[[1. 1. 1.]', ' [1. 1. 1.]]'],\n",
       " ['='],\n",
       " ['[[2. 2. 2.]', ' [2. 2. 2.]]']]"
      ]
     },
     "execution_count": 13,
     "metadata": {},
     "output_type": "execute_result"
    }
   ],
   "source": [
    "lines=[str(a).split('\\n')for a in my_input];lines"
   ]
  },
  {
   "cell_type": "code",
   "execution_count": 14,
   "metadata": {},
   "outputs": [],
   "source": [
    "max_lines = max([len(line)for line in lines])"
   ]
  },
  {
   "cell_type": "code",
   "execution_count": 15,
   "metadata": {},
   "outputs": [
    {
     "name": "stdout",
     "output_type": "stream",
     "text": [
      "2\n"
     ]
    }
   ],
   "source": [
    "print(max_lines)"
   ]
  },
  {
   "cell_type": "code",
   "execution_count": 16,
   "metadata": {},
   "outputs": [],
   "source": [
    "lines =[line+[' ']*(max_lines-len(line))for line in lines]"
   ]
  },
  {
   "cell_type": "code",
   "execution_count": 17,
   "metadata": {},
   "outputs": [
    {
     "name": "stdout",
     "output_type": "stream",
     "text": [
      "[['[[1. 1. 1.]', ' [1. 1. 1.]]'], ['+', ' '], ['[[1. 1. 1.]', ' [1. 1. 1.]]'], ['=', ' '], ['[[2. 2. 2.]', ' [2. 2. 2.]]']]\n"
     ]
    }
   ],
   "source": [
    "print(lines)"
   ]
  },
  {
   "cell_type": "code",
   "execution_count": 18,
   "metadata": {},
   "outputs": [],
   "source": [
    "lines_arr=np.array(lines)"
   ]
  },
  {
   "cell_type": "code",
   "execution_count": 19,
   "metadata": {},
   "outputs": [
    {
     "name": "stdout",
     "output_type": "stream",
     "text": [
      "[['[[1. 1. 1.]' '+' '[[1. 1. 1.]' '=' '[[2. 2. 2.]']\n",
      " [' [1. 1. 1.]]' ' ' ' [1. 1. 1.]]' ' ' ' [2. 2. 2.]]']]\n"
     ]
    }
   ],
   "source": [
    "print(lines_arr.T)"
   ]
  },
  {
   "cell_type": "code",
   "execution_count": 20,
   "metadata": {},
   "outputs": [
    {
     "name": "stdout",
     "output_type": "stream",
     "text": [
      "[2, 2, 2, 2, 2]\n"
     ]
    }
   ],
   "source": [
    "width=[len(x)for x in lines];print(width)"
   ]
  },
  {
   "cell_type": "code",
   "execution_count": 21,
   "metadata": {},
   "outputs": [
    {
     "data": {
      "text/plain": [
       "(10,)"
      ]
     },
     "execution_count": 21,
     "metadata": {},
     "output_type": "execute_result"
    }
   ],
   "source": [
    "lines_arr.flatten().shape"
   ]
  },
  {
   "cell_type": "code",
   "execution_count": 22,
   "metadata": {},
   "outputs": [
    {
     "data": {
      "text/plain": [
       "array([11, 12,  1,  1, 11, 12,  1,  1, 11, 12])"
      ]
     },
     "metadata": {},
     "output_type": "display_data"
    }
   ],
   "source": [
    "width =np.array([len(x) for x in  lines_arr.flatten()]);display(width)"
   ]
  },
  {
   "cell_type": "code",
   "execution_count": 23,
   "metadata": {},
   "outputs": [
    {
     "data": {
      "text/plain": [
       "array([[11, 12],\n",
       "       [ 1,  1],\n",
       "       [11, 12],\n",
       "       [ 1,  1],\n",
       "       [11, 12]])"
      ]
     },
     "metadata": {},
     "output_type": "display_data"
    }
   ],
   "source": [
    "width = width.reshape(len(lines_arr),-1);display(width)"
   ]
  },
  {
   "cell_type": "code",
   "execution_count": 24,
   "metadata": {},
   "outputs": [
    {
     "data": {
      "text/plain": [
       "12"
      ]
     },
     "execution_count": 24,
     "metadata": {},
     "output_type": "execute_result"
    }
   ],
   "source": [
    " np.max(width)"
   ]
  },
  {
   "cell_type": "code",
   "execution_count": 25,
   "metadata": {},
   "outputs": [
    {
     "data": {
      "text/plain": [
       "array([[11, 12],\n",
       "       [ 1,  1],\n",
       "       [11, 12],\n",
       "       [ 1,  1],\n",
       "       [11, 12]])"
      ]
     },
     "execution_count": 25,
     "metadata": {},
     "output_type": "execute_result"
    }
   ],
   "source": [
    "width"
   ]
  },
  {
   "cell_type": "code",
   "execution_count": 26,
   "metadata": {},
   "outputs": [
    {
     "data": {
      "text/plain": [
       "array([12,  1, 12,  1, 12])"
      ]
     },
     "execution_count": 26,
     "metadata": {},
     "output_type": "execute_result"
    }
   ],
   "source": [
    "width.max(axis=1)"
   ]
  },
  {
   "cell_type": "code",
   "execution_count": 27,
   "metadata": {},
   "outputs": [
    {
     "name": "stdout",
     "output_type": "stream",
     "text": [
      "[[1 2] \n",
      " [3 4]]\n",
      "       \n"
     ]
    }
   ],
   "source": [
    "def fmt_items(lines,max_lines=0):\n",
    "    max_width=max([len(line)for line in lines])\n",
    "    empty =' '*max_width\n",
    "    lines = [line.ljust(max_width)for line in lines]\n",
    "    lines += [empty]*(max_lines - len(lines))\n",
    "    return lines\n",
    "results =fmt_items(str(np.arange(1,5,1).reshape(2,-1)).split('\\n'),max_lines=3)\n",
    "print('\\n'.join(results))"
   ]
  },
  {
   "cell_type": "code",
   "execution_count": 28,
   "metadata": {},
   "outputs": [
    {
     "name": "stdout",
     "output_type": "stream",
     "text": [
      "[[1. 1. 1.]  + [[1. 1. 1.]  = [[2. 2. 2.] \n",
      " [1. 1. 1.]]    [1. 1. 1.]]    [2. 2. 2.]]\n"
     ]
    }
   ],
   "source": [
    "def pp (*list):\n",
    "    lines = [ str(item).split('\\n') for item in list]\n",
    "    max_lines=max([len(item)for  item in lines])\n",
    "    lines = [fmt_items(item,max_lines=max_lines)for item in lines]\n",
    "    lines_t= np.array(lines).T\n",
    "    print('\\n'.join([' '.join(line) for  line in lines_t]))\n",
    "pp(*my_input)"
   ]
  },
  {
   "cell_type": "code",
   "execution_count": 29,
   "metadata": {},
   "outputs": [
    {
     "name": "stdout",
     "output_type": "stream",
     "text": [
      "[[ 1  2]\n",
      " [ 3  4]\n",
      " [ 5  6]\n",
      " [ 7  8]\n",
      " [ 9 10]]\n"
     ]
    }
   ],
   "source": [
    "A=np.arange(1,11).reshape(5,2)\n",
    "print(A)"
   ]
  },
  {
   "cell_type": "code",
   "execution_count": 30,
   "metadata": {},
   "outputs": [
    {
     "name": "stdout",
     "output_type": "stream",
     "text": [
      "[[10.         12.22222222]\n",
      " [14.44444444 16.66666667]\n",
      " [18.88888889 21.11111111]\n",
      " [23.33333333 25.55555556]\n",
      " [27.77777778 30.        ]]\n"
     ]
    }
   ],
   "source": [
    "B=np.linspace(10,30,10).reshape(5,2)\n",
    "print(B)"
   ]
  },
  {
   "cell_type": "code",
   "execution_count": 31,
   "metadata": {},
   "outputs": [
    {
     "name": "stdout",
     "output_type": "stream",
     "text": [
      "[[ 1  2]  * [[10.         12.22222222]  = [[ 10.          24.44444444] \n",
      " [ 3  4]     [14.44444444 16.66666667]     [ 43.33333333  66.66666667] \n",
      " [ 5  6]     [18.88888889 21.11111111]     [ 94.44444444 126.66666667] \n",
      " [ 7  8]     [23.33333333 25.55555556]     [163.33333333 204.44444444] \n",
      " [ 9 10]]    [27.77777778 30.        ]]    [250.         300.        ]]\n"
     ]
    }
   ],
   "source": [
    "R=A * B\n",
    "pp(A, '*',B, '=',R)"
   ]
  },
  {
   "cell_type": "code",
   "execution_count": 32,
   "metadata": {},
   "outputs": [
    {
     "name": "stdout",
     "output_type": "stream",
     "text": [
      "[[1 2]  + [[5 6]  = [[ 6  8] \n",
      " [3 4]]    [7 8]]    [10 12]]\n"
     ]
    }
   ],
   "source": [
    "import operator\n",
    "def op(x,name,y,func):\n",
    "    r =func(x,y)\n",
    "    pp(x,name,y,'=',r)\n",
    "op(np.array([[1,2],[3,4]]),'+',np.array([[5,6],[7,8]]),operator.add)"
   ]
  },
  {
   "cell_type": "code",
   "execution_count": 33,
   "metadata": {},
   "outputs": [
    {
     "name": "stdout",
     "output_type": "stream",
     "text": [
      "[[ 1  2]  * [[10.         12.22222222]  = [[ 10.          24.44444444] \n",
      " [ 3  4]     [14.44444444 16.66666667]     [ 43.33333333  66.66666667] \n",
      " [ 5  6]     [18.88888889 21.11111111]     [ 94.44444444 126.66666667] \n",
      " [ 7  8]     [23.33333333 25.55555556]     [163.33333333 204.44444444] \n",
      " [ 9 10]]    [27.77777778 30.        ]]    [250.         300.        ]]\n"
     ]
    }
   ],
   "source": [
    "class Op:\n",
    "    def __init__(self,name,func):\n",
    "        self.name = name\n",
    "        self.func = func\n",
    "    def __call__ (self,x,y):\n",
    "        r =self.func(x,y)\n",
    "        pp(x,self.name,y,'=',r)\n",
    "        \n",
    "SSum = Op('+',lambda x,y:x+y)\n",
    "SMul = Op('*',lambda x,y:x*y)\n",
    "MMul = Op('@',lambda x,y:x@y)\n",
    "SMul(A,B)"
   ]
  },
  {
   "cell_type": "code",
   "execution_count": 34,
   "metadata": {},
   "outputs": [
    {
     "name": "stdout",
     "output_type": "stream",
     "text": [
      "[[ 1  3  5  7  9]  @ [[10.         12.22222222]  = [[561.11111111 616.66666667] \n",
      " [ 2  4  6  8 10]]    [14.44444444 16.66666667]     [655.55555556 722.22222222]]\n",
      "                      [18.88888889 21.11111111]                                 \n",
      "                      [23.33333333 25.55555556]                                 \n",
      "                      [27.77777778 30.        ]]                                \n"
     ]
    }
   ],
   "source": [
    "MMul(A.T,B)"
   ]
  },
  {
   "cell_type": "markdown",
   "metadata": {},
   "source": [
    "# Broadcast and stack"
   ]
  },
  {
   "cell_type": "code",
   "execution_count": 35,
   "metadata": {},
   "outputs": [
    {
     "name": "stdout",
     "output_type": "stream",
     "text": [
      "[[ 1  2]  + [10.         12.22222222] = [[11.         14.22222222] \n",
      " [ 3  4]                                 [13.         16.22222222] \n",
      " [ 5  6]                                 [15.         18.22222222] \n",
      " [ 7  8]                                 [17.         20.22222222] \n",
      " [ 9 10]]                                [19.         22.22222222]]\n"
     ]
    }
   ],
   "source": [
    "SSum(A,B[0])"
   ]
  },
  {
   "cell_type": "code",
   "execution_count": 36,
   "metadata": {},
   "outputs": [
    {
     "name": "stdout",
     "output_type": "stream",
     "text": [
      "[[ 1  2]  * [10.         12.22222222] = [[ 10.          24.44444444] \n",
      " [ 3  4]                                 [ 30.          48.88888889] \n",
      " [ 5  6]                                 [ 50.          73.33333333] \n",
      " [ 7  8]                                 [ 70.          97.77777778] \n",
      " [ 9 10]]                                [ 90.         122.22222222]]\n"
     ]
    }
   ],
   "source": [
    "SMul(A,B[0])"
   ]
  },
  {
   "cell_type": "code",
   "execution_count": 37,
   "metadata": {},
   "outputs": [
    {
     "name": "stdout",
     "output_type": "stream",
     "text": [
      "[[ 1  2]  * [[10.         12.22222222]  = [[ 10.          24.44444444] \n",
      " [ 3  4]     [10.         12.22222222]     [ 30.          48.88888889] \n",
      " [ 5  6]     [10.         12.22222222]     [ 50.          73.33333333] \n",
      " [ 7  8]     [10.         12.22222222]     [ 70.          97.77777778] \n",
      " [ 9 10]]    [10.         12.22222222]]    [ 90.         122.22222222]]\n"
     ]
    }
   ],
   "source": [
    "SMul(A,np.stack(list(B[0:1])*5))"
   ]
  },
  {
   "cell_type": "markdown",
   "metadata": {},
   "source": [
    "# Binary and logical operations"
   ]
  },
  {
   "cell_type": "code",
   "execution_count": 38,
   "metadata": {},
   "outputs": [
    {
     "name": "stdout",
     "output_type": "stream",
     "text": [
      "[[ 1  2]  [[False False]  [[10.         12.22222222]  [[ True  True] \n",
      " [ 3  4]   [False  True]   [14.44444444 16.66666667]   [ True  True] \n",
      " [ 5  6]   [ True  True]   [18.88888889 21.11111111]   [ True  True] \n",
      " [ 7  8]   [ True  True]   [23.33333333 25.55555556]   [ True  True] \n",
      " [ 9 10]]  [ True  True]]  [27.77777778 30.        ]]  [ True  True]]\n"
     ]
    }
   ],
   "source": [
    "pp(A,A>3,B,B>=10.)"
   ]
  },
  {
   "cell_type": "code",
   "execution_count": 39,
   "metadata": {},
   "outputs": [
    {
     "name": "stdout",
     "output_type": "stream",
     "text": [
      "[[ True False]  [[ True False] \n",
      " [False False]   [False False] \n",
      " [False False]   [False False] \n",
      " [False False]   [False False] \n",
      " [False False]]  [False False]]\n"
     ]
    }
   ],
   "source": [
    "pp(np.isclose(B,10),(10 - 1e-7 <= B)& (B<=10+1e-7))"
   ]
  },
  {
   "cell_type": "code",
   "execution_count": 40,
   "metadata": {},
   "outputs": [
    {
     "data": {
      "text/plain": [
       "array([10., 30.])"
      ]
     },
     "execution_count": 40,
     "metadata": {},
     "output_type": "execute_result"
    }
   ],
   "source": [
    "idx = np.isclose(B,10)| np.isclose(B,30)\n",
    "B[idx]"
   ]
  },
  {
   "cell_type": "code",
   "execution_count": null,
   "metadata": {},
   "outputs": [],
   "source": []
  },
  {
   "cell_type": "markdown",
   "metadata": {},
   "source": [
    "# Random"
   ]
  },
  {
   "cell_type": "code",
   "execution_count": 41,
   "metadata": {},
   "outputs": [
    {
     "name": "stdout",
     "output_type": "stream",
     "text": [
      "0.33918238726977856 [[ 1.26516998 -0.4406521   0.93747468]  [[0.54399224 0.40307357 0.24105942] \n",
      "                     [ 0.40648201 -1.24758096  1.42956197]]  [0.07272452 0.48251477 0.31774667]]\n"
     ]
    }
   ],
   "source": [
    "pp(np.random.uniform(0,1),np.random.randn(2,3),np.random.rand(2,3))"
   ]
  },
  {
   "cell_type": "code",
   "execution_count": 42,
   "metadata": {},
   "outputs": [
    {
     "name": "stdout",
     "output_type": "stream",
     "text": [
      "0.771320643266746 0.5714025946899135 0.0207519493594015 0.4288890546751146\n"
     ]
    }
   ],
   "source": [
    "import random\n",
    "random.seed(10)\n",
    "np.random.seed(10)\n",
    "nr= np.random.uniform(0,1)\n",
    "nr2= np.random.uniform(0,1)\n",
    "rr = random.uniform(0,1)\n",
    "rr2 = random.uniform(0,1)\n",
    "pp(nr,rr,nr2,rr2)\n"
   ]
  },
  {
   "cell_type": "markdown",
   "metadata": {},
   "source": [
    "# Matplotlib"
   ]
  },
  {
   "cell_type": "code",
   "execution_count": 43,
   "metadata": {},
   "outputs": [
    {
     "data": {
      "text/plain": [
       "[<matplotlib.lines.Line2D at 0x6d54ba8>]"
      ]
     },
     "execution_count": 43,
     "metadata": {},
     "output_type": "execute_result"
    }
   ],
   "source": [
    "import matplotlib \n",
    "matplotlib.rcParams['axes.grid']=False\n",
    "import matplotlib.pyplot as plt\n",
    "x=np.linspace(0,10,11)\n",
    "dotes = np.random.randn(11)\n",
    "plt.plot(x,dotes)"
   ]
  },
  {
   "cell_type": "code",
   "execution_count": 44,
   "metadata": {},
   "outputs": [
    {
     "data": {
      "image/png": "[encoded data removed]",
      "text/plain": [
       "<Figure size 432x288 with 1 Axes>"
      ]
     },
     "metadata": {
      "needs_background": "light"
     },
     "output_type": "display_data"
    }
   ],
   "source": [
    "plt.imshow(np.arange(0,120).reshape(6,20),'hot');"
   ]
  },
  {
   "cell_type": "code",
   "execution_count": 45,
   "metadata": {},
   "outputs": [
    {
     "name": "stdout",
     "output_type": "stream",
     "text": [
      "Кот сидел на крыше тише мыши\n"
     ]
    }
   ],
   "source": [
    "a = 'Кот сидел на крыше тише мыши'\n",
    "print(a)"
   ]
  },
  {
   "cell_type": "code",
   "execution_count": 46,
   "metadata": {},
   "outputs": [
    {
     "data": {
      "text/plain": [
       "[(' ', 5),\n",
       " ('и', 3),\n",
       " ('е', 3),\n",
       " ('ш', 3),\n",
       " ('т', 2),\n",
       " ('ы', 2),\n",
       " ('К', 1),\n",
       " ('о', 1),\n",
       " ('с', 1),\n",
       " ('д', 1),\n",
       " ('л', 1),\n",
       " ('н', 1),\n",
       " ('а', 1),\n",
       " ('к', 1),\n",
       " ('р', 1),\n",
       " ('м', 1)]"
      ]
     },
     "execution_count": 46,
     "metadata": {},
     "output_type": "execute_result"
    }
   ],
   "source": [
    "from collections import Counter\n",
    "Counter(list(a)).most_common()"
   ]
  },
  {
   "cell_type": "code",
   "execution_count": 47,
   "metadata": {},
   "outputs": [
    {
     "name": "stdout",
     "output_type": "stream",
     "text": [
      "[('о', 1), ('с', 1), ('д', 1), ('л', 1), ('н', 1), ('а', 1), ('р', 1), ('м', 1), ('к', 2), ('т', 2), ('ы', 2), ('и', 3), ('е', 3), ('ш', 3)]\n"
     ]
    }
   ],
   "source": [
    "counter = {}\n",
    "for ch in list(a.lower()):\n",
    "    if ch ==' ':continue\n",
    "    if ch in counter:\n",
    "        counter [ch]+=1\n",
    "    else:\n",
    "        counter [ch] = 1\n",
    "pp(sorted(counter.items(),key = lambda x: x[1]))"
   ]
  },
  {
   "cell_type": "code",
   "execution_count": null,
   "metadata": {},
   "outputs": [],
   "source": []
  },
  {
   "cell_type": "code",
   "execution_count": null,
   "metadata": {},
   "outputs": [],
   "source": []
  }
 ],
 "metadata": {
  "kernelspec": {
   "display_name": "Python 3",
   "language": "python",
   "name": "python3"
  },
  "language_info": {
   "codemirror_mode": {
    "name": "ipython",
    "version": 3
   },
   "file_extension": ".py",
   "mimetype": "text/x-python",
   "name": "python",
   "nbconvert_exporter": "python",
   "pygments_lexer": "ipython3",
   "version": "3.7.3"
  }
 },
 "nbformat": 4,
 "nbformat_minor": 2
}
